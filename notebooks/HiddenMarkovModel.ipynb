{
 "cells": [
  {
   "cell_type": "markdown",
   "metadata": {},
   "source": [
    "# Create hidden Markov models based on lipid tail thickness to identify ordered and disordered lipids in a liquid-liquid phase separated membrane\n",
    "\n",
    "The notebook is an implementation of part of the methodology descirbed in [S. Park and W. Im (2019)](https://pubs.acs.org/doi/abs/10.1021/acs.jctc.8b00828)\n",
    "\n",
    "In short, a hidden Markov model is constructed to determine the underlying (or hidden) order states of lipids ($L_d$ or $L_o$) from their observed (or emitted) thicknesses. This involves the following steps:\n",
    "\n",
    "* Calculate the **thickness of lipid tails** using **lipyphilic**\n",
    "\n",
    "* Determine the **emission states**:\n",
    "    * Emission states are values we observe (lipid thicknesses) that correlate with some hidden variable (lipid order, $L_d$ or $L_o$)\n",
    "    * Decompose the distribution of lipid tail thicknesses into two Gaussians (using a Gaussian mixture model)\n",
    "    * These two Guassians correspond to the thicknesses emitted by the low and high ordered hidden states, with the low order state emitting lower thicknesses\n",
    "    * Lipids are then assigned emission states based on their thickness\n",
    "    * All lipids with a thickness lower than the mean of the low order Gaussian are assigned an emission state of 0\n",
    "    * All lipids with a thickness higher than the mean of the high order Gaussian are assigned an emission state of 8\n",
    "    * Lipds with thicknesses between these means are binned into 7 bins with the bin edges evenly spaced between the low order and high order Guassian means\n",
    "    \n",
    "* Create an intermediate state (optional):\n",
    "    * A third Gaussian is constructed through a geometric mixing of the low order and high order Gaussians. This corresponds to thicknesses emitted by the intermediate order hidden states. In this notebook we will construct a two-state model with no intermediate state.\n",
    "    \n",
    "* The **emission probabilites** are then calculated\n",
    "    * Emission probabilities describe the probability of a hidden state emitting a particular emission state\n",
    "    * The emission probabilities of each hidden state are calculated by integrating the corresponding Gaussian in the limits of each of the bin edges\n",
    "    \n",
    "* The emission probabilities and states are then used to **fit the parameters of a hidden Markov model** using the Baum-Welch algorithm, implemented in `hmmlearn`\n",
    "\n",
    "* The Viterbi algorithm, also implemented in `hmmlearn`, is then used to **decode the most likely sequence of emitted states** (i.e identify whether each lipid is disordered or ordered at each frame.)\n",
    "\n",
    "* The results are stored in a NumPy array of shape ($N_{\\rm lipids}, N_{\\rm frames}$). For the elements in the array, **values of -1 correspond to disordered ($L_d$) and values of 1 to ordered $L_o$**.\n",
    "\n",
    "* Save the data to use as **input for other liyphilic analysis tools**\n"
   ]
  },
  {
   "cell_type": "code",
   "execution_count": 1,
   "metadata": {},
   "outputs": [],
   "source": [
    "import pathlib\n",
    "import joblib\n",
    "from tqdm.auto import tqdm\n",
    "\n",
    "import numpy as np\n",
    "import scipy\n",
    "import sklearn.mixture\n",
    "import matplotlib\n",
    "import matplotlib.pyplot as plt\n",
    "import seaborn as sns\n",
    "\n",
    "import hmmlearn.hmm\n",
    "import MDAnalysis as mda\n",
    "\n",
    "from lipyphilic.lib.z_thickness import ZThickness\n"
   ]
  },
  {
   "cell_type": "markdown",
   "metadata": {},
   "source": [
    "We will identify $L_o$ and $L_d$ lipids in a ternary mixture of DPPC, DOPC, and Cholesterol simulated by [Smith et al.](https://www.biorxiv.org/content/10.1101/2021.05.24.445501v3).\n"
   ]
  },
  {
   "cell_type": "code",
   "execution_count": 2,
   "metadata": {},
   "outputs": [],
   "source": [
    "u = mda.Universe(\"../datafiles/dppc-dopc-chol.tpr\", \"../datafiles/dppc-dopc-chol.xtc\")"
   ]
  },
  {
   "cell_type": "markdown",
   "metadata": {},
   "source": [
    "# Calculate lipid thicknesses using lpp"
   ]
  },
  {
   "cell_type": "code",
   "execution_count": 3,
   "metadata": {},
   "outputs": [],
   "source": [
    "# Create a directory for storing out results, if necessary\n",
    "results_directory = pathlib.Path(\"../results/HMM\")\n",
    "results_directory.mkdir(exist_ok=True)"
   ]
  },
  {
   "cell_type": "code",
   "execution_count": 4,
   "metadata": {},
   "outputs": [],
   "source": [
    "# We will use the below AtomGroup for iterating over lipids in the membrane\n",
    "membrane = u.select_atoms(\"resname DPPC DOPC CHOL\")"
   ]
  },
  {
   "cell_type": "markdown",
   "metadata": {},
   "source": [
    "## sn1 tail and cholesterol thickness"
   ]
  },
  {
   "cell_type": "code",
   "execution_count": 5,
   "metadata": {},
   "outputs": [],
   "source": [
    "# The following atom selection will select all sn1 tail beads of the phospholipids\n",
    "# as well as all cholesterol beads except for the hydroxyl group\n",
    "thickness_sn1 = ZThickness(\n",
    "    universe=u,\n",
    "    lipid_sel=\"(name ??1 ??A) or (resname CHOL and not name ROH)\"\n",
    ")"
   ]
  },
  {
   "cell_type": "code",
   "execution_count": 6,
   "metadata": {},
   "outputs": [
    {
     "data": {
      "application/vnd.jupyter.widget-view+json": {
       "model_id": "22c2bc5485a54cd6bd0b1c6b95fd5982",
       "version_major": 2,
       "version_minor": 0
      },
      "text/plain": [
       "  0%|          | 0/51 [00:00<?, ?it/s]"
      ]
     },
     "metadata": {},
     "output_type": "display_data"
    },
    {
     "data": {
      "text/plain": [
       "<lipyphilic.lib.z_thickness.ZThickness at 0x7f05f85ec460>"
      ]
     },
     "execution_count": 6,
     "metadata": {},
     "output_type": "execute_result"
    }
   ],
   "source": [
    "# Use every frame in the analysis\n",
    "thickness_sn1.run(\n",
    "    start=None,\n",
    "    stop=None,\n",
    "    step=None,\n",
    "    verbose=True\n",
    ")"
   ]
  },
  {
   "cell_type": "markdown",
   "metadata": {},
   "source": [
    "## sn2 tail thickness only (no cholesterol)"
   ]
  },
  {
   "cell_type": "code",
   "execution_count": 8,
   "metadata": {},
   "outputs": [],
   "source": [
    "# The following atom selection will select all sn2 tail beads of the phospholipids\n",
    "thickness_sn2 = ZThickness(\n",
    "    universe=u,\n",
    "    lipid_sel=\"name ??2 ??B\"\n",
    ")"
   ]
  },
  {
   "cell_type": "code",
   "execution_count": 9,
   "metadata": {},
   "outputs": [
    {
     "data": {
      "application/vnd.jupyter.widget-view+json": {
       "model_id": "0eee1f3b974845f4b509af456926e9ca",
       "version_major": 2,
       "version_minor": 0
      },
      "text/plain": [
       "  0%|          | 0/51 [00:00<?, ?it/s]"
      ]
     },
     "metadata": {},
     "output_type": "display_data"
    },
    {
     "data": {
      "text/plain": [
       "<lipyphilic.lib.z_thickness.ZThickness at 0x7f96ed04c160>"
      ]
     },
     "execution_count": 9,
     "metadata": {},
     "output_type": "execute_result"
    }
   ],
   "source": [
    "# Use every frame in the analysis\n",
    "thickness_sn2.run(\n",
    "    start=None,\n",
    "    stop=None,\n",
    "    step=None,\n",
    "    verbose=True\n",
    ")"
   ]
  },
  {
   "cell_type": "markdown",
   "metadata": {},
   "source": [
    "## Average the thicknesses over the two tails"
   ]
  },
  {
   "cell_type": "code",
   "execution_count": 10,
   "metadata": {},
   "outputs": [],
   "source": [
    "thickness = ZThickness.average(\n",
    "    thickness_sn1,\n",
    "    thickness_sn2\n",
    ")"
   ]
  },
  {
   "cell_type": "code",
   "execution_count": 14,
   "metadata": {},
   "outputs": [
    {
     "data": {
      "text/plain": [
       "(12000, 51)"
      ]
     },
     "execution_count": 14,
     "metadata": {},
     "output_type": "execute_result"
    }
   ],
   "source": [
    "# There is a single thickness for each lipid at each frame\n",
    "# For 12000 lipids and 51 frames\n",
    "thickness.z_thickness.shape"
   ]
  },
  {
   "cell_type": "markdown",
   "metadata": {},
   "source": [
    "## Store results for later use"
   ]
  },
  {
   "cell_type": "markdown",
   "metadata": {},
   "source": [
    "### Either as a NumPy array"
   ]
  },
  {
   "cell_type": "code",
   "execution_count": 15,
   "metadata": {},
   "outputs": [],
   "source": [
    "np.save(\n",
    "    results_directory.joinpath(\"lipid-thickness.npy\"),\n",
    "    thickness.z_thickness\n",
    ")"
   ]
  },
  {
   "cell_type": "markdown",
   "metadata": {},
   "source": [
    "### Or by serialising the object"
   ]
  },
  {
   "cell_type": "code",
   "execution_count": 16,
   "metadata": {},
   "outputs": [
    {
     "data": {
      "text/plain": [
       "['../results/HMM/lipid-thickness.pkl']"
      ]
     },
     "execution_count": 16,
     "metadata": {},
     "output_type": "execute_result"
    }
   ],
   "source": [
    "joblib.dump(\n",
    "    thickness,\n",
    "    results_directory.joinpath(\"lipid-thickness.pkl\")\n",
    ")"
   ]
  },
  {
   "cell_type": "markdown",
   "metadata": {},
   "source": [
    "# Create a HMM based on lipid thickness with HMMLearn\n",
    "Once we have created our HMMs and decoded the most likely sequence of hidden states, `lipid_order` will be a two-dimensional NumPy array with elemets equal to:\n",
    "- 1 if the lipid is in the $Ld$ state\n",
    "- -1 if the lipid is in the $Lo$ state\n"
   ]
  },
  {
   "cell_type": "code",
   "execution_count": 18,
   "metadata": {},
   "outputs": [],
   "source": [
    "# This is our output array \n",
    "lipid_order = np.zeros_like(thickness.z_thickness, dtype=np.int8)"
   ]
  },
  {
   "cell_type": "code",
   "execution_count": 19,
   "metadata": {},
   "outputs": [],
   "source": [
    "def get_gmm_params(gmm):\n",
    "    \"\"\"Get the mean, weight, and standard deviation of each Gaussian.\n",
    "    \n",
    "    Sort the parameters in ascending order of the mean.\n",
    "    \"\"\"\n",
    "    \n",
    "    means = gmm.means_.flatten()\n",
    "    weights = gmm.weights_.flatten()\n",
    "    sds = np.sqrt(gmm.covariances_).flatten()\n",
    "    \n",
    "    sorter = np.argsort(means)\n",
    "    \n",
    "    return means[sorter], weights[sorter], sds[sorter]\n",
    "\n",
    "    "
   ]
  },
  {
   "cell_type": "code",
   "execution_count": 21,
   "metadata": {},
   "outputs": [],
   "source": [
    "def add_intermediate_state(means, sds):\n",
    "    \"\"\"Add an intermediate Gaussian.\n",
    "    \"\"\"\n",
    "    \n",
    "    small_mean, large_mean = means\n",
    "    small_sd, large_sd = sds\n",
    "    \n",
    "    intermediate_mean = (small_mean * large_sd + large_mean * small_sd) / (small_sd + large_sd)\n",
    "    intermediate_sd = min(\n",
    "        abs(small_mean - intermediate_mean),\n",
    "        abs(large_mean - intermediate_mean)\n",
    "    ) / 3.0\n",
    "    \n",
    "    new_means = np.array([small_mean, intermediate_mean, large_mean])\n",
    "    new_sds = np.array([small_sd, intermediate_sd, large_sd])\n",
    "    \n",
    "    return new_means, new_sds\n",
    "    "
   ]
  },
  {
   "cell_type": "code",
   "execution_count": 22,
   "metadata": {},
   "outputs": [],
   "source": [
    "def get_emission_states(thickness, means, n_states=9):\n",
    "    \"\"\"Bin the raw thickness values into discrete emission states.\n",
    "    \"\"\"\n",
    "    \n",
    "    small_mean, large_mean = means[0], means[-1]\n",
    "    emission_states = np.full_like(thickness, np.nan, dtype=np.int8)\n",
    "    emission_state_edges = np.linspace(small_mean, large_mean, n_states-1)\n",
    "\n",
    "    # Thicknesses less than the smaller mean have an emission state of 0\n",
    "    # Thicknesses greater than the upper\n",
    "    emission_states[thickness < small_mean] = 0\n",
    "    emission_states[thickness > large_mean] = n_states - 1\n",
    "    \n",
    "    # Intermediate emission states\n",
    "    for edge_index, edge in enumerate(emission_state_edges[:-1], start=1):\n",
    "\n",
    "        state_mask = np.logical_and(\n",
    "            thickness >= edge,\n",
    "            thickness < emission_state_edges[edge_index]\n",
    "            )\n",
    "\n",
    "        emission_states[state_mask] = edge_index\n",
    "        \n",
    "    return emission_states, emission_state_edges\n"
   ]
  },
  {
   "cell_type": "code",
   "execution_count": 23,
   "metadata": {},
   "outputs": [],
   "source": [
    "def get_emission_probs(thickness, states, edges, means, sds):\n",
    "    \"\"\"Calculate emission probabilities.\n",
    "    \n",
    "    An emission probability is the probability that a given hidden state\n",
    "    emits a given emitted state.\n",
    "    \n",
    "    There are `n_states` emission probabilities for each hidden state,\n",
    "    normalised such that the sum of emission probabilities for a given\n",
    "    hidden state equals 1.\n",
    "    \n",
    "    The probability of an emitted state is calculated by integrating the\n",
    "    Gaussian of a hidden state between the limits of emission states defined above.\n",
    "    \"\"\"\n",
    "    \n",
    "    def _calc_emission_prob(mean, sd, bin_edges):\n",
    "        \"\"\"Calculate the emission probability for a given Gaussian and bins.\n",
    "        \"\"\"\n",
    "        \n",
    "        x = np.linspace(\n",
    "            mean - 3 * sd,\n",
    "            mean + 3 * sd,\n",
    "            1000\n",
    "        )\n",
    "        x_hist, _ = np.histogram(x, bins=bin_edges, density=True)\n",
    "\n",
    "        return x_hist / np.sum(x_hist)\n",
    "    \n",
    "    # Setup edges for integration\n",
    "    emission_prob_edges = np.full(edges.size + 2, fill_value=np.NaN)\n",
    "    emission_prob_edges[0] = np.min(thickness)\n",
    "    emission_prob_edges[1:-1] = edges\n",
    "    emission_prob_edges[-1] = np.max(thickness)\n",
    "    \n",
    "    # Get emission probabilties for the hidden states\n",
    "    emission_probs = []\n",
    "    for index, mean in enumerate(means):\n",
    "        \n",
    "        emission_prob = _calc_emission_prob(\n",
    "            mean,\n",
    "            sds[index],\n",
    "            emission_prob_edges\n",
    "        )\n",
    "        \n",
    "        emission_probs.append(emission_prob)\n",
    "    \n",
    "    return np.asarray(emission_probs)\n",
    "    "
   ]
  },
  {
   "cell_type": "markdown",
   "metadata": {},
   "source": [
    "## Create a separate HMM for each species"
   ]
  },
  {
   "cell_type": "code",
   "execution_count": 24,
   "metadata": {},
   "outputs": [],
   "source": [
    "n_hidden_states = 2"
   ]
  },
  {
   "cell_type": "code",
   "execution_count": 25,
   "metadata": {
    "scrolled": true
   },
   "outputs": [
    {
     "data": {
      "application/vnd.jupyter.widget-view+json": {
       "model_id": "a12f71aff0904d7a988af21267b81602",
       "version_major": 2,
       "version_minor": 0
      },
      "text/plain": [
       "  0%|          | 0/3 [00:00<?, ?it/s]"
      ]
     },
     "metadata": {},
     "output_type": "display_data"
    },
    {
     "name": "stderr",
     "output_type": "stream",
     "text": [
      "         1     -429333.6111             +nan\n",
      "         2     -339055.2346      +90278.3765\n",
      "         3     -338996.3902         +58.8444\n",
      "         4     -338934.9414         +61.4487\n",
      "         5     -338868.7363         +66.2051\n",
      "         6     -338795.1425         +73.5939\n",
      "         7     -338710.7825         +84.3600\n",
      "         8     -338611.1527         +99.6297\n",
      "         9     -338490.0550        +121.0977\n",
      "        10     -338338.7314        +151.3236\n",
      "        11     -338144.5332        +194.1983\n",
      "        12     -337888.8760        +255.6572\n",
      "        13     -337544.1804        +344.6956\n",
      "        14     -337069.6366        +474.5438\n",
      "        15     -336406.5525        +663.0841\n",
      "        16     -335477.2740        +929.2785\n",
      "        17     -334199.7275       +1277.5464\n",
      "        18     -332539.9245       +1659.8031\n",
      "        19     -330605.8717       +1934.0527\n",
      "        20     -328682.1525       +1923.7193\n",
      "        21     -327047.6837       +1634.4688\n",
      "        22     -325743.1073       +1304.5764\n",
      "        23     -324641.6609       +1101.4464\n",
      "        24     -323653.6909        +987.9700\n",
      "        25     -322775.2659        +878.4250\n",
      "        26     -322043.3917        +731.8742\n",
      "        27     -321492.2617        +551.1300\n",
      "        28     -321122.7233        +369.5384\n",
      "        29     -320900.1990        +222.5243\n",
      "        30     -320777.1619        +123.0372\n",
      "        31     -320713.2165         +63.9454\n",
      "        32     -320681.4032         +31.8133\n",
      "        33     -320666.0593         +15.3438\n",
      "        34     -320658.8209          +7.2384\n",
      "        35     -320655.4593          +3.3616\n",
      "        36     -320653.9152          +1.5441\n",
      "        37     -320653.2113          +0.7039\n",
      "        38     -320652.8920          +0.3192\n",
      "        39     -320652.7478          +0.1443\n",
      "        40     -320652.6827          +0.0650\n",
      "        41     -320652.6535          +0.0293\n",
      "        42     -320652.6403          +0.0132\n",
      "        43     -320652.6344          +0.0059\n",
      "         1     -485113.4910             +nan\n",
      "         2     -396544.4977      +88568.9932\n",
      "         3     -396284.7315        +259.7662\n",
      "         4     -395956.4042        +328.3274\n",
      "         5     -395496.2091        +460.1951\n",
      "         6     -394794.6453        +701.5639\n",
      "         7     -393655.1242       +1139.5211\n",
      "         8     -391744.5603       +1910.5639\n",
      "         9     -388643.9715       +3100.5888\n",
      "        10     -384336.7789       +4307.1926\n",
      "        11     -380012.0951       +4324.6838\n",
      "        12     -377115.7817       +2896.3135\n",
      "        13     -375428.6393       +1687.1424\n",
      "        14     -374168.7855       +1259.8538\n",
      "        15     -373085.6207       +1083.1648\n",
      "        16     -372181.3178        +904.3029\n",
      "        17     -371473.3205        +707.9973\n",
      "        18     -370949.6667        +523.6538\n",
      "        19     -370580.2479        +369.4188\n",
      "        20     -370332.0128        +248.2351\n",
      "        21     -370173.7397        +158.2731\n",
      "        22     -370077.6821         +96.0576\n",
      "        23     -370021.7617         +55.9204\n",
      "        24     -369990.2782         +31.4835\n",
      "        25     -369973.0067         +17.2715\n",
      "        26     -369963.7145          +9.2922\n",
      "        27     -369958.7861          +4.9284\n",
      "        28     -369956.1990          +2.5872\n",
      "        29     -369954.8508          +1.3482\n",
      "        30     -369954.1519          +0.6989\n",
      "        31     -369953.7909          +0.3610\n",
      "        32     -369953.6049          +0.1859\n",
      "        33     -369953.5093          +0.0956\n",
      "        34     -369953.4602          +0.0491\n",
      "        35     -369953.4351          +0.0252\n",
      "        36     -369953.4222          +0.0129\n",
      "        37     -369953.4155          +0.0066\n",
      "         1     -473243.6523             +nan\n",
      "         2     -377432.0453      +95811.6070\n",
      "         3     -377201.2941        +230.7512\n",
      "         4     -376920.7263        +280.5678\n",
      "         5     -376540.8991        +379.8273\n",
      "         6     -375974.0865        +566.8126\n",
      "         7     -375050.0936        +923.9929\n",
      "         8     -373421.4167       +1628.6769\n",
      "         9     -370397.4768       +3023.9399\n",
      "        10     -364946.6153       +5450.8615\n",
      "        11     -357085.3615       +7861.2538\n",
      "        12     -350139.4366       +6945.9249\n",
      "        13     -346445.2384       +3694.1982\n",
      "        14     -344463.7920       +1981.4464\n",
      "        15     -343217.8899       +1245.9021\n",
      "        16     -342502.8793        +715.0106\n",
      "        17     -342152.5724        +350.3069\n",
      "        18     -342002.3640        +150.2084\n",
      "        19     -341943.4878         +58.8762\n",
      "        20     -341921.6328         +21.8550\n",
      "        21     -341913.7802          +7.8526\n",
      "        22     -341911.0145          +2.7657\n",
      "        23     -341910.0524          +0.9621\n",
      "        24     -341909.7203          +0.3321\n",
      "        25     -341909.6061          +0.1141\n",
      "        26     -341909.5670          +0.0391\n",
      "        27     -341909.5537          +0.0134\n",
      "        28     -341909.5491          +0.0046\n"
     ]
    }
   ],
   "source": [
    "for species in tqdm(np.unique(membrane.resnames)):\n",
    "    \n",
    "    species_mask = membrane.residues.resnames == species\n",
    "    species_thickness = thickness.z_thickness[species_mask]\n",
    "    \n",
    "    # Decompose the thickness distribition into two Gaussians\n",
    "    mixture = sklearn.mixture.GaussianMixture(\n",
    "        n_components=2,\n",
    "        covariance_type=\"full\",\n",
    "        tol=1e-3\n",
    "    ).fit(species_thickness.flatten().reshape(-1, 1))\n",
    "          \n",
    "    means, weights, sds = get_gmm_params(\n",
    "        gmm=mixture\n",
    "    )\n",
    "    \n",
    "    if n_hidden_states == 3:\n",
    "        means, sds = add_intermediate_state(means, sds)\n",
    "    \n",
    "    # Calculate input parameters for the HMM\n",
    "    emission_states, emission_state_edges = get_emission_states(\n",
    "        thickness=species_thickness,\n",
    "        means=means,\n",
    "        n_states=9\n",
    "    )\n",
    "    \n",
    "    emission_probs = get_emission_probs(\n",
    "        species_thickness,\n",
    "        states=emission_states,\n",
    "        edges=emission_state_edges,\n",
    "        means=means,\n",
    "        sds=sds\n",
    "    )\n",
    "    \n",
    "    # Construct the model\n",
    "    n_lipids, n_frames = species_thickness.shape\n",
    "    lengths = np.full(n_lipids, fill_value=n_frames)\n",
    "    \n",
    "    model = hmmlearn.hmm.CategoricalHMM(\n",
    "        n_components=n_hidden_states,\n",
    "        init_params='',\n",
    "        verbose=True,\n",
    "        n_iter=100  # maximum number of iterations\n",
    "    )\n",
    "    model.emissionprob_ = emission_probs\n",
    "    \n",
    "    # Train the model\n",
    "    model = model.fit(\n",
    "        np.concatenate(emission_states).reshape(-1,1),\n",
    "        lengths=lengths\n",
    "    )\n",
    "    \n",
    "    # Decode most likely sequence of hidden states\n",
    "    _, species_order = model.decode(\n",
    "        np.concatenate(emission_states).reshape(-1,1),\n",
    "        lengths=lengths\n",
    "    )\n",
    "    species_order = species_order.reshape(emission_states.shape)\n",
    "    \n",
    "    # ensure Ld = -1, Ld/o = 0, Lo = 1\n",
    "    if n_hidden_states == 3:\n",
    "        species_order -= 1\n",
    "    else:\n",
    "        species_order[species_order == 0] = -1\n",
    "    \n",
    "    # store the results for this species\n",
    "    lipid_order[species_mask] = species_order\n",
    "    \n",
    "    # Save the model for later use if necessary\n",
    "    # e.g. the HMM for future refitting or decoding\n",
    "    joblib.dump(\n",
    "        model,\n",
    "        results_directory.joinpath(f\"{species}-thickness-HMM.pkl\")\n",
    "    )\n",
    "\n",
    "# Save the ordered states of all lipids\n",
    "np.save(\n",
    "    results_directory.joinpath(\"lipid-order.npy\"),\n",
    "    lipid_order\n",
    ")\n"
   ]
  },
  {
   "cell_type": "markdown",
   "metadata": {},
   "source": [
    "# Check the output\n",
    "\n",
    "The results we are interested in are stored in the two-dimensional NumPy array `lipid_order`.\n",
    "\n",
    "This results array is the same format as many of those in LiPyphilic: the rows correspond to individual lipids and the columns correspond to individual frames. As mentioned:\n",
    "\n",
    "- values of 1 indicate the lipid is in the $L_o$ state\n",
    "- values of -1 indicate the lipid is in the $L_d$ state\n"
   ]
  },
  {
   "cell_type": "code",
   "execution_count": 46,
   "metadata": {},
   "outputs": [
    {
     "data": {
      "text/plain": [
       "array([[ 1,  1,  1, ...,  1,  1,  1],\n",
       "       [ 1,  1,  1, ..., -1, -1, -1],\n",
       "       [ 1,  1,  1, ...,  1,  1,  1],\n",
       "       ...,\n",
       "       [ 1,  1,  1, ...,  1,  1,  1],\n",
       "       [-1, -1, -1, ..., -1, -1, -1],\n",
       "       [ 1,  1,  1, ...,  1,  1,  1]], dtype=int8)"
      ]
     },
     "execution_count": 46,
     "metadata": {},
     "output_type": "execute_result"
    }
   ],
   "source": [
    "lipid_order"
   ]
  },
  {
   "cell_type": "code",
   "execution_count": 47,
   "metadata": {},
   "outputs": [
    {
     "data": {
      "text/plain": [
       "(12000, 51)"
      ]
     },
     "execution_count": 47,
     "metadata": {},
     "output_type": "execute_result"
    }
   ],
   "source": [
    "# There are 12000 lipids in the membrane \n",
    "lipid_order.shape"
   ]
  },
  {
   "cell_type": "markdown",
   "metadata": {},
   "source": [
    "# Plot fraction of states over time\n",
    "\n",
    "How does the fraction of $L_o$ or $L_d$ states evolve over time? Do we see an increase in $L_o$ lipids, which could signal the formation of an $L_o$ domain?\n"
   ]
  },
  {
   "cell_type": "code",
   "execution_count": 29,
   "metadata": {},
   "outputs": [
    {
     "data": {
      "image/png": "[encoded data removed]",
      "text/plain": [
       "<Figure size 432x288 with 1 Axes>"
      ]
     },
     "metadata": {
      "needs_background": "light"
     },
     "output_type": "display_data"
    },
    {
     "data": {
      "image/png": "[encoded data removed]",
      "text/plain": [
       "<Figure size 432x288 with 1 Axes>"
      ]
     },
     "metadata": {
      "needs_background": "light"
     },
     "output_type": "display_data"
    },
    {
     "data": {
      "image/png": "[encoded data removed]",
      "text/plain": [
       "<Figure size 432x288 with 1 Axes>"
      ]
     },
     "metadata": {
      "needs_background": "light"
     },
     "output_type": "display_data"
    }
   ],
   "source": [
    "labels = [r\"$L_d$\", r\"$L_o$\"]\n",
    "for species in np.unique(membrane.resnames):\n",
    "    \n",
    "    # extract Lo and Ld states for this species\n",
    "    species_order = lipid_order[membrane.residues.resnames == species]\n",
    "    \n",
    "    # Count the number of each state (Ld or Lo) at each frame\n",
    "    count_disordered = np.apply_along_axis(lambda x: np.count_nonzero(x==-1), axis=0, arr=species_order)\n",
    "    count_ordered = np.apply_along_axis(lambda x: np.count_nonzero(x==1), axis=0, arr=species_order)\n",
    "    \n",
    "    # Combine these values into a 2d array for plotting\n",
    "    order_by_frame = np.vstack([count_disordered, count_ordered])\n",
    "    \n",
    "    fig, ax = plt.subplots()\n",
    "    plt.stackplot(\n",
    "        np.arange(order_by_frame.shape[1]),\n",
    "        order_by_frame/np.sum(order_by_frame, axis=0),\n",
    "        labels=labels,\n",
    "        baseline=\"zero\",\n",
    "        lw=0.0,\n",
    "        alpha=1\n",
    "    )\n",
    "    plt.margins(-0.1,0)\n",
    "    plt.axis(\"off\")\n",
    "\n",
    "    leg = plt.legend(fancybox=True, framealpha=1, loc=3, fontsize=20)\n",
    "    for lh in leg.legendHandles: \n",
    "        lh.set_alpha(1)\n",
    "\n",
    "    plt.title(species, loc=\"left\", weight=\"bold\")\n",
    "    \n",
    "    plt.tight_layout()\n",
    "    plt.show()\n"
   ]
  },
  {
   "cell_type": "markdown",
   "metadata": {},
   "source": [
    "There is very little change over time in the distribution of states. \n",
    "\n",
    "However, we have only used 51 frames in the analysis, with 5 ns between frames.\n",
    "\n",
    "**To better capture transitions between states, a smaller interval between frames (such as 1 ns) should be used.**\n"
   ]
  },
  {
   "cell_type": "markdown",
   "metadata": {},
   "source": [
    "## Plot the thickness distribution of each state\n",
    "\n",
    "How well separated are the thickness distributions of lipids in the $L_o$ and $L_d$ states?\n"
   ]
  },
  {
   "cell_type": "code",
   "execution_count": 43,
   "metadata": {},
   "outputs": [
    {
     "name": "stdout",
     "output_type": "stream",
     "text": [
      "CHOL L_d mean thickness: 10.16 Å\n",
      "CHOL L_o mean thickness: 11.70 Å\n"
     ]
    },
    {
     "data": {
      "image/png": "[encoded data removed]",
      "text/plain": [
       "<Figure size 432x288 with 1 Axes>"
      ]
     },
     "metadata": {
      "needs_background": "light"
     },
     "output_type": "display_data"
    },
    {
     "name": "stdout",
     "output_type": "stream",
     "text": [
      "DOPC L_d mean thickness: 12.22 Å\n",
      "DOPC L_o mean thickness: 14.61 Å\n"
     ]
    },
    {
     "data": {
      "image/png": "[encoded data removed]",
      "text/plain": [
       "<Figure size 432x288 with 1 Axes>"
      ]
     },
     "metadata": {
      "needs_background": "light"
     },
     "output_type": "display_data"
    },
    {
     "name": "stdout",
     "output_type": "stream",
     "text": [
      "DPPC L_d mean thickness: 13.35 Å\n",
      "DPPC L_o mean thickness: 15.67 Å\n"
     ]
    },
    {
     "data": {
      "image/png": "[encoded data removed]",
      "text/plain": [
       "<Figure size 432x288 with 1 Axes>"
      ]
     },
     "metadata": {
      "needs_background": "light"
     },
     "output_type": "display_data"
    }
   ],
   "source": [
    "bin_edges = np.linspace(0, 25.0, 126)\n",
    "bin_centers = bin_edges[:-1] + np.diff(bin_edges)[0] / 2\n",
    "labels = [r\"$L_d$\", r\"$L_o$\"]\n",
    "\n",
    "for species in np.unique(membrane.resnames):\n",
    "\n",
    "    species_mask = membrane.residues.resnames == species\n",
    "    species_thickness = thickness.z_thickness[species_mask]\n",
    "    species_order = lipid_order[species_mask]\n",
    "    \n",
    "    # We want out histograms to be weighted by the relative prevalance of Lo and Ld states\n",
    "    hmm_weights = np.array([\n",
    "        np.sum(species_order == -1),\n",
    "        np.sum(species_order == 1),\n",
    "    ]) / species_order.size\n",
    "    \n",
    "    for index, state in enumerate([-1, 1]):\n",
    "    \n",
    "        hist, bins= np.histogram(species_thickness[species_order == state].flatten(), bins=bin_edges, density=True)\n",
    "        plt.plot(bin_centers, hist * hmm_weights[state], label=labels[index])\n",
    "        \n",
    "        print(f\"{species} {labels[index][1:-1]} mean thickness: {np.mean(species_thickness[species_order == state]):.2f} Å\")\n",
    "        \n",
    "    plt.title(species, loc=\"left\", weight=\"bold\")\n",
    "    plt.legend()\n",
    "    plt.show()\n"
   ]
  },
  {
   "cell_type": "markdown",
   "metadata": {},
   "source": [
    "**The two states are fairly well well separated.**\n",
    "\n",
    "\n",
    "See also\n",
    "--------\n",
    "\n",
    "The results (i.e. the two-dimensional NumPy array `lipid_order`) are used as input in the following tutorial notebooks:\n",
    "\n",
    "- [Local lipid environments](4-NeighbourCounts.ipynb): The local lipid environment is quantified based on the order ($L_d$ or $L_d$) of neighbouring lipids.\n",
    "\n",
    "- [Interleaflet registration](6-Registration.ipynb): The registration between $L_o$ lipids is calculated over time.\n",
    "\n",
    "- [Projection plots](9-ProjectionPlot.ipynb): The lateral distribution of $L_d$ and $L_o$ lipids is projected onto the membrane plane.\n"
   ]
  },
  {
   "cell_type": "code",
   "execution_count": null,
   "metadata": {},
   "outputs": [],
   "source": []
  }
 ],
 "metadata": {
  "kernelspec": {
   "display_name": "Python [conda env:lpp]",
   "language": "python",
   "name": "conda-env-lpp-py"
  },
  "language_info": {
   "codemirror_mode": {
    "name": "ipython",
    "version": 3
   },
   "file_extension": ".py",
   "mimetype": "text/x-python",
   "name": "python",
   "nbconvert_exporter": "python",
   "pygments_lexer": "ipython3",
   "version": "3.8.6"
  },
  "widgets": {
   "application/vnd.jupyter.widget-state+json": {
    "state": {
     "035b791186fb4c8d9a3438e4011c249d": {
      "model_module": "@jupyter-widgets/base",
      "model_module_version": "1.2.0",
      "model_name": "LayoutModel",
      "state": {}
     },
     "0831c783c4704f639330351e2745e43b": {
      "model_module": "@jupyter-widgets/controls",
      "model_module_version": "1.5.0",
      "model_name": "FloatProgressModel",
      "state": {
       "bar_style": "success",
       "layout": "IPY_MODEL_a8dd75ceccd244c0ae00b4ed3a227586",
       "max": 51,
       "style": "IPY_MODEL_2b46e66864934342819693d5438c2f1d",
       "value": 51
      }
     },
     "22c2bc5485a54cd6bd0b1c6b95fd5982": {
      "model_module": "@jupyter-widgets/controls",
      "model_module_version": "1.5.0",
      "model_name": "HBoxModel",
      "state": {
       "children": [
        "IPY_MODEL_50d2b3a3cc0a4de788dfb0ef2971c38c",
        "IPY_MODEL_0831c783c4704f639330351e2745e43b",
        "IPY_MODEL_ad78ffe529414db9b91c83e63951a4e9"
       ],
       "layout": "IPY_MODEL_035b791186fb4c8d9a3438e4011c249d"
      }
     },
     "2b46e66864934342819693d5438c2f1d": {
      "model_module": "@jupyter-widgets/controls",
      "model_module_version": "1.5.0",
      "model_name": "ProgressStyleModel",
      "state": {
       "description_width": ""
      }
     },
     "34e5bde7407f475a9fca9cfd02a44962": {
      "model_module": "@jupyter-widgets/controls",
      "model_module_version": "1.5.0",
      "model_name": "DescriptionStyleModel",
      "state": {
       "description_width": ""
      }
     },
     "50d2b3a3cc0a4de788dfb0ef2971c38c": {
      "model_module": "@jupyter-widgets/controls",
      "model_module_version": "1.5.0",
      "model_name": "HTMLModel",
      "state": {
       "layout": "IPY_MODEL_844e9d468f8643f7af6e513a6b0eb8c5",
       "style": "IPY_MODEL_d672602e78c94808bafc2bad18a9857e",
       "value": "100%"
      }
     },
     "74e97cb763c14edead6e6b519a152125": {
      "model_module": "@jupyter-widgets/base",
      "model_module_version": "1.2.0",
      "model_name": "LayoutModel",
      "state": {}
     },
     "844e9d468f8643f7af6e513a6b0eb8c5": {
      "model_module": "@jupyter-widgets/base",
      "model_module_version": "1.2.0",
      "model_name": "LayoutModel",
      "state": {}
     },
     "a8dd75ceccd244c0ae00b4ed3a227586": {
      "model_module": "@jupyter-widgets/base",
      "model_module_version": "1.2.0",
      "model_name": "LayoutModel",
      "state": {}
     },
     "ad78ffe529414db9b91c83e63951a4e9": {
      "model_module": "@jupyter-widgets/controls",
      "model_module_version": "1.5.0",
      "model_name": "HTMLModel",
      "state": {
       "layout": "IPY_MODEL_74e97cb763c14edead6e6b519a152125",
       "style": "IPY_MODEL_34e5bde7407f475a9fca9cfd02a44962",
       "value": " 51/51 [00:02&lt;00:00, 26.84it/s]"
      }
     },
     "d672602e78c94808bafc2bad18a9857e": {
      "model_module": "@jupyter-widgets/controls",
      "model_module_version": "1.5.0",
      "model_name": "DescriptionStyleModel",
      "state": {
       "description_width": ""
      }
     }
    },
    "version_major": 2,
    "version_minor": 0
   }
  }
 },
 "nbformat": 4,
 "nbformat_minor": 4
}
