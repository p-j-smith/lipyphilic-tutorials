{
 "cells": [
  {
   "cell_type": "markdown",
   "metadata": {},
   "source": [
    "# Create hidden Markov models based on lipid tail thickness to identify ordered and disordered lipids in a liquid-liquid phase separated membrane\n",
    "\n",
    "The notebook is an implementation of part of the methodology descirbed in [S. Park and W. Im (2019)](https://pubs.acs.org/doi/abs/10.1021/acs.jctc.8b00828)\n",
    "\n",
    "In short, a hidden Markov model is constructed to determine the underlying (or hidden) order states of lipids ($L_d$ or $L_o$) from their observed (or emitted) thicknesses. This involves the following steps:\n",
    "\n",
    "* Calculate the **thickness of lipid tails** using **lipyphilic**\n",
    "\n",
    "* Determine the **emission states**:\n",
    "    * Emission states are values we observe (lipid thicknesses) that correlate with some hidden variable (lipid order, $L_d$ or $L_o$)\n",
    "    * Decompose the distribution of lipid tail thicknesses into two Gaussians (using a Gaussian mixture model)\n",
    "    * These two Guassians correspond to the thicknesses emitted by the low and high ordered hidden states, with the low order state emitting lower thicknesses\n",
    "    * Lipids are then assigned emission states based on their thickness\n",
    "    * All lipids with a thickness lower than the mean of the low order Gaussian are assigned an emission state of 0\n",
    "    * All lipids with a thickness higher than the mean of the high order Gaussian are assigned an emission state of 8\n",
    "    * Lipds with thicknesses between these means are binned into 7 bins with the bin edges evenly spaced between the low order and high order Guassian means\n",
    "    \n",
    "* Create an intermediate state (optional):\n",
    "    * A third Gaussian is constructed through a geometric mixing of the low order and high order Gaussians. This corresponds to thicknesses emitted by the intermediate order hidden states. In this notebook we will construct a two-state model with no intermediate state.\n",
    "    \n",
    "* The **emission probabilites** are then calculated\n",
    "    * Emission probabilities describe the probability of a hidden state emitting a particular emission state\n",
    "    * The emission probabilities of each hidden state are calculated by integrating the corresponding Gaussian in the limits of each of the bin edges\n",
    "    \n",
    "* The emission probabilities and states are then used to **fit the parameters of a hidden Markov model** using the Baum-Welch algorithm, implemented in `hmmlearn`\n",
    "\n",
    "* The Viterbi algorithm, also implemented in `hmmlearn`, is then used to **decode the most likely sequence of emitted states** (i.e identify whether each lipid is disordered or ordered at each frame.)\n",
    "\n",
    "* The results are stored in a NumPy array of shape ($N_{\\rm lipids}, N_{\\rm frames}$). For the elements in the array, **values of -1 correspond to disordered ($L_d$) and values of 1 to ordered $L_o$**.\n",
    "\n",
    "* Save the data to use as **input for other liyphilic analysis tools**\n"
   ]
  },
  {
   "cell_type": "code",
   "execution_count": 1,
   "metadata": {},
   "outputs": [],
   "source": [
    "import pathlib\n",
    "import joblib\n",
    "from tqdm.auto import tqdm\n",
    "\n",
    "import numpy as np\n",
    "import scipy\n",
    "import sklearn.mixture\n",
    "import matplotlib\n",
    "import matplotlib.pyplot as plt\n",
    "import seaborn as sns\n",
    "\n",
    "import hmmlearn.hmm\n",
    "import MDAnalysis as mda\n",
    "\n",
    "from lipyphilic.lib.z_thickness import ZThickness\n"
   ]
  },
  {
   "cell_type": "markdown",
   "metadata": {},
   "source": [
    "We will identify $L_o$ and $L_d$ lipids in a ternary mixture of DPPC, DOPC, and Cholesterol simulated by [Smith et al.](https://www.biorxiv.org/content/10.1101/2021.05.24.445501v3).\n"
   ]
  },
  {
   "cell_type": "code",
   "execution_count": 2,
   "metadata": {},
   "outputs": [],
   "source": [
    "u = mda.Universe(\"../datafiles/dppc-dopc-chol.tpr\", \"../datafiles/dppc-dopc-chol.xtc\")"
   ]
  },
  {
   "cell_type": "markdown",
   "metadata": {},
   "source": [
    "# Calculate lipid thicknesses using lpp"
   ]
  },
  {
   "cell_type": "code",
   "execution_count": 3,
   "metadata": {},
   "outputs": [],
   "source": [
    "# Create a directory for storing out results, if necessary\n",
    "results_directory = pathlib.Path(\"../results/HMM\")\n",
    "results_directory.mkdir(exist_ok=True)"
   ]
  },
  {
   "cell_type": "code",
   "execution_count": 4,
   "metadata": {},
   "outputs": [],
   "source": [
    "# We will use the below AtomGroup for iterating over lipids in the membrane\n",
    "membrane = u.select_atoms(\"resname DPPC DOPC CHOL\")"
   ]
  },
  {
   "cell_type": "markdown",
   "metadata": {},
   "source": [
    "## sn1 tail and cholesterol thickness"
   ]
  },
  {
   "cell_type": "code",
   "execution_count": 5,
   "metadata": {},
   "outputs": [],
   "source": [
    "# The following atom selection will select all sn1 tail beads of the phospholipids\n",
    "# as well as all cholesterol beads except for the hydroxyl group\n",
    "thickness_sn1 = ZThickness(\n",
    "    universe=u,\n",
    "    lipid_sel=\"(name ??1 ??A) or (resname CHOL and not name ROH)\"\n",
    ")"
   ]
  },
  {
   "cell_type": "code",
   "execution_count": 6,
   "metadata": {},
   "outputs": [
    {
     "data": {
      "application/vnd.jupyter.widget-view+json": {
       "model_id": "5c856807af364f1586c3f39226460297",
       "version_major": 2,
       "version_minor": 0
      },
      "text/plain": [
       "  0%|          | 0/51 [00:00<?, ?it/s]"
      ]
     },
     "metadata": {},
     "output_type": "display_data"
    },
    {
     "data": {
      "text/plain": [
       "<lipyphilic.lib.z_thickness.ZThickness at 0x16c61e450>"
      ]
     },
     "execution_count": 6,
     "metadata": {},
     "output_type": "execute_result"
    }
   ],
   "source": [
    "# Use every frame in the analysis\n",
    "thickness_sn1.run(\n",
    "    start=None,\n",
    "    stop=None,\n",
    "    step=None,\n",
    "    verbose=True\n",
    ")"
   ]
  },
  {
   "cell_type": "markdown",
   "metadata": {},
   "source": [
    "## sn2 tail thickness only (no cholesterol)"
   ]
  },
  {
   "cell_type": "code",
   "execution_count": 7,
   "metadata": {},
   "outputs": [],
   "source": [
    "# The following atom selection will select all sn2 tail beads of the phospholipids\n",
    "thickness_sn2 = ZThickness(\n",
    "    universe=u,\n",
    "    lipid_sel=\"name ??2 ??B\"\n",
    ")"
   ]
  },
  {
   "cell_type": "code",
   "execution_count": 8,
   "metadata": {},
   "outputs": [
    {
     "data": {
      "application/vnd.jupyter.widget-view+json": {
       "model_id": "759cb29cbf1449ffaea40a96a5316345",
       "version_major": 2,
       "version_minor": 0
      },
      "text/plain": [
       "  0%|          | 0/51 [00:00<?, ?it/s]"
      ]
     },
     "metadata": {},
     "output_type": "display_data"
    },
    {
     "data": {
      "text/plain": [
       "<lipyphilic.lib.z_thickness.ZThickness at 0x165d28450>"
      ]
     },
     "execution_count": 8,
     "metadata": {},
     "output_type": "execute_result"
    }
   ],
   "source": [
    "# Use every frame in the analysis\n",
    "thickness_sn2.run(\n",
    "    start=None,\n",
    "    stop=None,\n",
    "    step=None,\n",
    "    verbose=True\n",
    ")"
   ]
  },
  {
   "cell_type": "markdown",
   "metadata": {},
   "source": [
    "## Average the thicknesses over the two tails"
   ]
  },
  {
   "cell_type": "code",
   "execution_count": 9,
   "metadata": {},
   "outputs": [],
   "source": [
    "thickness = ZThickness.average(\n",
    "    thickness_sn1,\n",
    "    thickness_sn2\n",
    ")"
   ]
  },
  {
   "cell_type": "code",
   "execution_count": 10,
   "metadata": {},
   "outputs": [
    {
     "data": {
      "text/plain": [
       "(12000, 51)"
      ]
     },
     "execution_count": 10,
     "metadata": {},
     "output_type": "execute_result"
    }
   ],
   "source": [
    "# There is a single thickness for each lipid at each frame\n",
    "# For 12000 lipids and 51 frames\n",
    "thickness.z_thickness.shape"
   ]
  },
  {
   "cell_type": "markdown",
   "metadata": {},
   "source": [
    "## Store results for later use"
   ]
  },
  {
   "cell_type": "markdown",
   "metadata": {},
   "source": [
    "### Either as a NumPy array"
   ]
  },
  {
   "cell_type": "code",
   "execution_count": 11,
   "metadata": {},
   "outputs": [],
   "source": [
    "np.save(\n",
    "    results_directory.joinpath(\"lipid-thickness.npy\"),\n",
    "    thickness.z_thickness\n",
    ")"
   ]
  },
  {
   "cell_type": "markdown",
   "metadata": {},
   "source": [
    "### Or by serialising the object"
   ]
  },
  {
   "cell_type": "code",
   "execution_count": 12,
   "metadata": {},
   "outputs": [
    {
     "data": {
      "text/plain": [
       "['../results/HMM/lipid-thickness.pkl']"
      ]
     },
     "execution_count": 12,
     "metadata": {},
     "output_type": "execute_result"
    }
   ],
   "source": [
    "joblib.dump(\n",
    "    thickness,\n",
    "    results_directory.joinpath(\"lipid-thickness.pkl\")\n",
    ")"
   ]
  },
  {
   "cell_type": "markdown",
   "metadata": {},
   "source": [
    "# Create a HMM based on lipid thickness with HMMLearn\n",
    "Once we have created our HMMs and decoded the most likely sequence of hidden states, `lipid_order` will be a two-dimensional NumPy array with elemets equal to:\n",
    "- 1 if the lipid is in the $Ld$ state\n",
    "- -1 if the lipid is in the $Lo$ state\n"
   ]
  },
  {
   "cell_type": "code",
   "execution_count": 13,
   "metadata": {},
   "outputs": [],
   "source": [
    "# This is our output array \n",
    "lipid_order = np.zeros_like(thickness.z_thickness, dtype=np.int8)"
   ]
  },
  {
   "cell_type": "code",
   "execution_count": 14,
   "metadata": {},
   "outputs": [],
   "source": [
    "def get_gmm_params(gmm):\n",
    "    \"\"\"Get the mean, weight, and standard deviation of each Gaussian.\n",
    "    \n",
    "    Sort the parameters in ascending order of the mean.\n",
    "    \"\"\"\n",
    "    \n",
    "    means = gmm.means_.flatten()\n",
    "    weights = gmm.weights_.flatten()\n",
    "    sds = np.sqrt(gmm.covariances_).flatten()\n",
    "    \n",
    "    sorter = np.argsort(means)\n",
    "    \n",
    "    return means[sorter], weights[sorter], sds[sorter]\n",
    "\n",
    "    "
   ]
  },
  {
   "cell_type": "code",
   "execution_count": 15,
   "metadata": {},
   "outputs": [],
   "source": [
    "def add_intermediate_state(means, sds):\n",
    "    \"\"\"Add an intermediate Gaussian.\n",
    "    \"\"\"\n",
    "    \n",
    "    small_mean, large_mean = means\n",
    "    small_sd, large_sd = sds\n",
    "    \n",
    "    intermediate_mean = (small_mean * large_sd + large_mean * small_sd) / (small_sd + large_sd)\n",
    "    intermediate_sd = min(\n",
    "        abs(small_mean - intermediate_mean),\n",
    "        abs(large_mean - intermediate_mean)\n",
    "    ) / 3.0\n",
    "    \n",
    "    new_means = np.array([small_mean, intermediate_mean, large_mean])\n",
    "    new_sds = np.array([small_sd, intermediate_sd, large_sd])\n",
    "    \n",
    "    return new_means, new_sds\n",
    "    "
   ]
  },
  {
   "cell_type": "code",
   "execution_count": 16,
   "metadata": {},
   "outputs": [],
   "source": [
    "def get_emission_states(thickness, means, n_states=9):\n",
    "    \"\"\"Bin the raw thickness values into discrete emission states.\n",
    "    \"\"\"\n",
    "    \n",
    "    small_mean, large_mean = means[0], means[-1]\n",
    "    emission_states = np.full_like(thickness, np.nan, dtype=np.int8)\n",
    "    emission_state_edges = np.linspace(small_mean, large_mean, n_states-1)\n",
    "\n",
    "    # Thicknesses less than the smaller mean have an emission state of 0\n",
    "    # Thicknesses greater than the upper\n",
    "    emission_states[thickness < small_mean] = 0\n",
    "    emission_states[thickness > large_mean] = n_states - 1\n",
    "    \n",
    "    # Intermediate emission states\n",
    "    for edge_index, edge in enumerate(emission_state_edges[:-1], start=1):\n",
    "\n",
    "        state_mask = np.logical_and(\n",
    "            thickness >= edge,\n",
    "            thickness < emission_state_edges[edge_index]\n",
    "            )\n",
    "\n",
    "        emission_states[state_mask] = edge_index\n",
    "        \n",
    "    return emission_states, emission_state_edges\n"
   ]
  },
  {
   "cell_type": "code",
   "execution_count": 17,
   "metadata": {},
   "outputs": [],
   "source": [
    "def get_emission_probs(thickness, states, edges, means, sds):\n",
    "    \"\"\"Calculate emission probabilities.\n",
    "    \n",
    "    An emission probability is the probability that a given hidden state\n",
    "    emits a given emitted state.\n",
    "    \n",
    "    There are `n_states` emission probabilities for each hidden state,\n",
    "    normalised such that the sum of emission probabilities for a given\n",
    "    hidden state equals 1.\n",
    "    \n",
    "    The probability of an emitted state is calculated by integrating the\n",
    "    Gaussian of a hidden state between the limits of emission states defined above.\n",
    "    \"\"\"\n",
    "    \n",
    "    def _calc_emission_prob(mean, sd, bin_edges):\n",
    "        \"\"\"Calculate the emission probability for a given Gaussian and bins.\n",
    "        \"\"\"\n",
    "        \n",
    "        x = np.linspace(\n",
    "            mean - 3 * sd,\n",
    "            mean + 3 * sd,\n",
    "            1000\n",
    "        )\n",
    "        x_hist, _ = np.histogram(x, bins=bin_edges, density=True)\n",
    "\n",
    "        return x_hist / np.sum(x_hist)\n",
    "    \n",
    "    # Setup edges for integration\n",
    "    emission_prob_edges = np.full(edges.size + 2, fill_value=np.NaN)\n",
    "    emission_prob_edges[0] = np.min(thickness)\n",
    "    emission_prob_edges[1:-1] = edges\n",
    "    emission_prob_edges[-1] = np.max(thickness)\n",
    "    \n",
    "    # Get emission probabilties for the hidden states\n",
    "    emission_probs = []\n",
    "    for index, mean in enumerate(means):\n",
    "        \n",
    "        emission_prob = _calc_emission_prob(\n",
    "            mean,\n",
    "            sds[index],\n",
    "            emission_prob_edges\n",
    "        )\n",
    "        \n",
    "        emission_probs.append(emission_prob)\n",
    "    \n",
    "    return np.asarray(emission_probs)\n",
    "    "
   ]
  },
  {
   "cell_type": "markdown",
   "metadata": {},
   "source": [
    "## Create a separate HMM for each species"
   ]
  },
  {
   "cell_type": "code",
   "execution_count": 18,
   "metadata": {},
   "outputs": [],
   "source": [
    "n_hidden_states = 2"
   ]
  },
  {
   "cell_type": "code",
   "execution_count": 19,
   "metadata": {
    "scrolled": true
   },
   "outputs": [
    {
     "data": {
      "application/vnd.jupyter.widget-view+json": {
       "model_id": "fe598bed89ce465287b45dc8f91e49ba",
       "version_major": 2,
       "version_minor": 0
      },
      "text/plain": [
       "  0%|          | 0/3 [00:00<?, ?it/s]"
      ]
     },
     "metadata": {},
     "output_type": "display_data"
    },
    {
     "name": "stderr",
     "output_type": "stream",
     "text": [
      "/Users/paul/mambaforge/envs/lpp-tutorials/lib/python3.11/site-packages/numpy/core/numeric.py:407: RuntimeWarning: invalid value encountered in cast\n",
      "  multiarray.copyto(res, fill_value, casting='unsafe')\n",
      "         1 -421536.64543397             +nan\n",
      "         2 -327361.55154632  +94175.09388765\n",
      "         3 -323852.51088906   +3509.04065725\n",
      "         4 -322370.86311831   +1481.64777075\n",
      "         5 -321658.81241615    +712.05070216\n",
      "         6 -321228.64158380    +430.17083235\n",
      "         7 -320966.00107788    +262.64050592\n",
      "         8 -320814.91884052    +151.08223736\n",
      "         9 -320733.32313774     +81.59570278\n",
      "        10 -320691.52377173     +41.79936600\n",
      "        11 -320670.95857390     +20.56519784\n",
      "        12 -320661.13169260      +9.82688130\n",
      "        13 -320656.53078586      +4.60090674\n",
      "        14 -320654.40649859      +2.12428726\n",
      "        15 -320653.43490549      +0.97159310\n",
      "        16 -320652.99333783      +0.44156766\n",
      "        17 -320652.79350908      +0.19982875\n",
      "        18 -320652.70333616      +0.09017292\n",
      "        19 -320652.66272354      +0.04061262\n",
      "        20 -320652.64445571      +0.01826783\n",
      "        21 -320652.63624579      +0.00820991\n",
      "/Users/paul/mambaforge/envs/lpp-tutorials/lib/python3.11/site-packages/numpy/core/numeric.py:407: RuntimeWarning: invalid value encountered in cast\n",
      "  multiarray.copyto(res, fill_value, casting='unsafe')\n",
      "         1 -515809.42989923             +nan\n",
      "         2 -398417.70961483 +117391.72028440\n",
      "         3 -397864.70614083    +553.00347400\n",
      "         4 -397516.96794765    +347.73819318\n",
      "         5 -397283.84032518    +233.12762247\n",
      "         6 -397119.39562222    +164.44470296\n",
      "         7 -396998.47308660    +120.92253562\n",
      "         8 -396906.34848713     +92.12459947\n",
      "         9 -396833.87503321     +72.47345392\n",
      "        10 -396775.03045513     +58.84457807\n",
      "        11 -396725.59456891     +49.43588622\n",
      "        12 -396682.38126932     +43.21329959\n",
      "        13 -396642.74275180     +39.63851752\n",
      "        14 -396604.19044514     +38.55230666\n",
      "        15 -396564.02534079     +40.16510436\n",
      "        16 -396518.87027500     +45.15506578\n",
      "        17 -396463.94726565     +54.92300935\n",
      "        18 -396391.81185585     +72.13540980\n",
      "        19 -396289.95474887    +101.85710698\n",
      "        20 -396135.99714488    +153.95760399\n",
      "        21 -395887.67870316    +248.31844172\n",
      "        22 -395461.72996181    +425.94874135\n",
      "        23 -394691.74925679    +769.98070502\n",
      "        24 -393265.16025064   +1426.58900615\n",
      "        25 -390735.80122289   +2529.35902775\n",
      "        26 -386956.19966509   +3779.60155780\n",
      "        27 -382858.87350729   +4097.32615780\n",
      "        28 -379756.20479651   +3102.66871078\n",
      "        29 -377683.05223479   +2073.15256172\n",
      "        30 -376012.65282513   +1670.39940966\n",
      "        31 -374470.15276544   +1542.50005969\n",
      "        32 -373082.67904819   +1387.47371725\n",
      "        33 -371939.65991084   +1143.01913735\n",
      "        34 -371090.19339974    +849.46651110\n",
      "        35 -370520.48726044    +569.70613930\n",
      "        36 -370171.31241913    +349.17484131\n",
      "        37 -369971.56155408    +199.75086505\n",
      "        38 -369862.63314363    +108.92841045\n",
      "        39 -369805.06556347     +57.56758016\n",
      "        40 -369775.22791339     +29.83765008\n",
      "        41 -369759.93626234     +15.29165104\n",
      "        42 -369752.14561858      +7.79064376\n",
      "        43 -369748.18692032      +3.95869827\n",
      "        44 -369746.17689188      +2.01002844\n",
      "        45 -369745.15611165      +1.02078023\n",
      "        46 -369744.63741497      +0.51869668\n",
      "        47 -369744.37366763      +0.26374734\n",
      "        48 -369744.23947237      +0.13419526\n",
      "        49 -369744.17115701      +0.06831537\n",
      "        50 -369744.13636455      +0.03479246\n",
      "        51 -369744.11863918      +0.01772536\n",
      "        52 -369744.10960658      +0.00903261\n",
      "/Users/paul/mambaforge/envs/lpp-tutorials/lib/python3.11/site-packages/numpy/core/numeric.py:407: RuntimeWarning: invalid value encountered in cast\n",
      "  multiarray.copyto(res, fill_value, casting='unsafe')\n",
      "         1 -466058.93805084             +nan\n",
      "         2 -355820.88309474 +110238.05495610\n",
      "         3 -347326.75638021   +8494.12671452\n",
      "         4 -343550.01918929   +3776.73719092\n",
      "         5 -342246.25605949   +1303.76312980\n",
      "         6 -341947.41307733    +298.84298216\n",
      "         7 -341857.07950645     +90.33357088\n",
      "         8 -341826.07251723     +31.00698922\n",
      "         9 -341815.25307051     +10.81944671\n",
      "        10 -341811.48688262      +3.76618789\n",
      "        11 -341810.18220904      +1.30467358\n",
      "        12 -341809.73227089      +0.44993815\n",
      "        13 -341809.57764257      +0.15462831\n",
      "        14 -341809.52463262      +0.05300996\n",
      "        15 -341809.50648924      +0.01814337\n",
      "        16 -341809.50028587      +0.00620337\n"
     ]
    }
   ],
   "source": [
    "for species in tqdm(np.unique(membrane.resnames)):\n",
    "    \n",
    "    species_mask = membrane.residues.resnames == species\n",
    "    species_thickness = thickness.z_thickness[species_mask]\n",
    "    \n",
    "    # Decompose the thickness distribition into two Gaussians\n",
    "    mixture = sklearn.mixture.GaussianMixture(\n",
    "        n_components=2,\n",
    "        covariance_type=\"full\",\n",
    "        tol=1e-3\n",
    "    ).fit(species_thickness.flatten().reshape(-1, 1))\n",
    "          \n",
    "    means, weights, sds = get_gmm_params(\n",
    "        gmm=mixture\n",
    "    )\n",
    "    \n",
    "    if n_hidden_states == 3:\n",
    "        means, sds = add_intermediate_state(means, sds)\n",
    "    \n",
    "    # Calculate input parameters for the HMM\n",
    "    emission_states, emission_state_edges = get_emission_states(\n",
    "        thickness=species_thickness,\n",
    "        means=means,\n",
    "        n_states=9\n",
    "    )\n",
    "    \n",
    "    emission_probs = get_emission_probs(\n",
    "        species_thickness,\n",
    "        states=emission_states,\n",
    "        edges=emission_state_edges,\n",
    "        means=means,\n",
    "        sds=sds\n",
    "    )\n",
    "    \n",
    "    # Construct the model\n",
    "    n_lipids, n_frames = species_thickness.shape\n",
    "    lengths = np.full(n_lipids, fill_value=n_frames)\n",
    "    \n",
    "    model = hmmlearn.hmm.CategoricalHMM(\n",
    "        n_components=n_hidden_states,\n",
    "        init_params='',\n",
    "        verbose=True,\n",
    "        n_iter=100  # maximum number of iterations\n",
    "    )\n",
    "    model.emissionprob_ = emission_probs\n",
    "    \n",
    "    # Train the model\n",
    "    model = model.fit(\n",
    "        np.concatenate(emission_states).reshape(-1,1),\n",
    "        lengths=lengths\n",
    "    )\n",
    "    \n",
    "    # Decode most likely sequence of hidden states\n",
    "    _, species_order = model.decode(\n",
    "        np.concatenate(emission_states).reshape(-1,1),\n",
    "        lengths=lengths\n",
    "    )\n",
    "    species_order = species_order.reshape(emission_states.shape)\n",
    "    \n",
    "    # ensure Ld = -1, Ld/o = 0, Lo = 1\n",
    "    if n_hidden_states == 3:\n",
    "        species_order -= 1\n",
    "    else:\n",
    "        species_order[species_order == 0] = -1\n",
    "    \n",
    "    # store the results for this species\n",
    "    lipid_order[species_mask] = species_order\n",
    "    \n",
    "    # Save the model for later use if necessary\n",
    "    # e.g. the HMM for future refitting or decoding\n",
    "    joblib.dump(\n",
    "        model,\n",
    "        results_directory.joinpath(f\"{species}-thickness-HMM.pkl\")\n",
    "    )\n",
    "\n",
    "# Save the ordered states of all lipids\n",
    "np.save(\n",
    "    results_directory.joinpath(\"lipid-order.npy\"),\n",
    "    lipid_order\n",
    ")\n"
   ]
  },
  {
   "cell_type": "markdown",
   "metadata": {},
   "source": [
    "# Check the output\n",
    "\n",
    "The results we are interested in are stored in the two-dimensional NumPy array `lipid_order`.\n",
    "\n",
    "This results array is the same format as many of those in LiPyphilic: the rows correspond to individual lipids and the columns correspond to individual frames. As mentioned:\n",
    "\n",
    "- values of 1 indicate the lipid is in the $L_o$ state\n",
    "- values of -1 indicate the lipid is in the $L_d$ state\n"
   ]
  },
  {
   "cell_type": "code",
   "execution_count": 20,
   "metadata": {},
   "outputs": [
    {
     "data": {
      "text/plain": [
       "array([[ 1,  1,  1, ...,  1,  1,  1],\n",
       "       [ 1,  1,  1, ..., -1, -1, -1],\n",
       "       [ 1,  1,  1, ...,  1,  1,  1],\n",
       "       ...,\n",
       "       [ 1,  1,  1, ...,  1,  1,  1],\n",
       "       [-1, -1, -1, ..., -1, -1, -1],\n",
       "       [ 1,  1,  1, ...,  1,  1,  1]], dtype=int8)"
      ]
     },
     "execution_count": 20,
     "metadata": {},
     "output_type": "execute_result"
    }
   ],
   "source": [
    "lipid_order"
   ]
  },
  {
   "cell_type": "code",
   "execution_count": 21,
   "metadata": {},
   "outputs": [
    {
     "data": {
      "text/plain": [
       "(12000, 51)"
      ]
     },
     "execution_count": 21,
     "metadata": {},
     "output_type": "execute_result"
    }
   ],
   "source": [
    "# There are 12000 lipids in the membrane \n",
    "lipid_order.shape"
   ]
  },
  {
   "cell_type": "markdown",
   "metadata": {},
   "source": [
    "# Plot fraction of states over time\n",
    "\n",
    "How does the fraction of $L_o$ or $L_d$ states evolve over time? Do we see an increase in $L_o$ lipids, which could signal the formation of an $L_o$ domain?\n"
   ]
  },
  {
   "cell_type": "code",
   "execution_count": 22,
   "metadata": {},
   "outputs": [
    {
     "name": "stderr",
     "output_type": "stream",
     "text": [
      "/var/folders/sj/t15lvqd955z0scwp13cyt1180000gn/T/ipykernel_92940/1693232445.py:27: MatplotlibDeprecationWarning: The legendHandles attribute was deprecated in Matplotlib 3.7 and will be removed two minor releases later. Use legend_handles instead.\n",
      "  for lh in leg.legendHandles:\n"
     ]
    },
    {
     "data": {
      "image/png": "[encoded data removed]",
      "text/plain": [
       "<Figure size 640x480 with 1 Axes>"
      ]
     },
     "metadata": {},
     "output_type": "display_data"
    },
    {
     "data": {
      "image/png": "[encoded data removed]",
      "text/plain": [
       "<Figure size 640x480 with 1 Axes>"
      ]
     },
     "metadata": {},
     "output_type": "display_data"
    },
    {
     "data": {
      "image/png": "[encoded data removed]",
      "text/plain": [
       "<Figure size 640x480 with 1 Axes>"
      ]
     },
     "metadata": {},
     "output_type": "display_data"
    }
   ],
   "source": [
    "labels = [r\"$L_d$\", r\"$L_o$\"]\n",
    "for species in np.unique(membrane.resnames):\n",
    "    \n",
    "    # extract Lo and Ld states for this species\n",
    "    species_order = lipid_order[membrane.residues.resnames == species]\n",
    "    \n",
    "    # Count the number of each state (Ld or Lo) at each frame\n",
    "    count_disordered = np.apply_along_axis(lambda x: np.count_nonzero(x==-1), axis=0, arr=species_order)\n",
    "    count_ordered = np.apply_along_axis(lambda x: np.count_nonzero(x==1), axis=0, arr=species_order)\n",
    "    \n",
    "    # Combine these values into a 2d array for plotting\n",
    "    order_by_frame = np.vstack([count_disordered, count_ordered])\n",
    "    \n",
    "    fig, ax = plt.subplots()\n",
    "    plt.stackplot(\n",
    "        np.arange(order_by_frame.shape[1]),\n",
    "        order_by_frame/np.sum(order_by_frame, axis=0),\n",
    "        labels=labels,\n",
    "        baseline=\"zero\",\n",
    "        lw=0.0,\n",
    "        alpha=1\n",
    "    )\n",
    "    plt.margins(-0.1,0)\n",
    "    plt.axis(\"off\")\n",
    "\n",
    "    leg = plt.legend(fancybox=True, framealpha=1, loc=3, fontsize=20)\n",
    "    for lh in leg.legendHandles: \n",
    "        lh.set_alpha(1)\n",
    "\n",
    "    plt.title(species, loc=\"left\", weight=\"bold\")\n",
    "    \n",
    "    plt.tight_layout()\n",
    "    plt.show()\n"
   ]
  },
  {
   "cell_type": "markdown",
   "metadata": {},
   "source": [
    "There is very little change over time in the distribution of states. \n",
    "\n",
    "However, we have only used 51 frames in the analysis, with 5 ns between frames.\n",
    "\n",
    "**To better capture transitions between states, a smaller interval between frames (such as 1 ns) should be used.**\n"
   ]
  },
  {
   "cell_type": "markdown",
   "metadata": {},
   "source": [
    "## Plot the thickness distribution of each state\n",
    "\n",
    "How well separated are the thickness distributions of lipids in the $L_o$ and $L_d$ states?\n"
   ]
  },
  {
   "cell_type": "code",
   "execution_count": 23,
   "metadata": {},
   "outputs": [
    {
     "name": "stdout",
     "output_type": "stream",
     "text": [
      "CHOL L_d mean thickness: 10.16 Å\n",
      "CHOL L_o mean thickness: 11.70 Å\n"
     ]
    },
    {
     "data": {
      "image/png": "[encoded data removed]",
      "text/plain": [
       "<Figure size 640x480 with 1 Axes>"
      ]
     },
     "metadata": {},
     "output_type": "display_data"
    },
    {
     "name": "stdout",
     "output_type": "stream",
     "text": [
      "DOPC L_d mean thickness: 12.22 Å\n",
      "DOPC L_o mean thickness: 14.60 Å\n"
     ]
    },
    {
     "data": {
      "image/png": "[encoded data removed]",
      "text/plain": [
       "<Figure size 640x480 with 1 Axes>"
      ]
     },
     "metadata": {},
     "output_type": "display_data"
    },
    {
     "name": "stdout",
     "output_type": "stream",
     "text": [
      "DPPC L_d mean thickness: 13.35 Å\n",
      "DPPC L_o mean thickness: 15.67 Å\n"
     ]
    },
    {
     "data": {
      "image/png": "[encoded data removed]",
      "text/plain": [
       "<Figure size 640x480 with 1 Axes>"
      ]
     },
     "metadata": {},
     "output_type": "display_data"
    }
   ],
   "source": [
    "bin_edges = np.linspace(0, 25.0, 126)\n",
    "bin_centers = bin_edges[:-1] + np.diff(bin_edges)[0] / 2\n",
    "labels = [r\"$L_d$\", r\"$L_o$\"]\n",
    "\n",
    "for species in np.unique(membrane.resnames):\n",
    "\n",
    "    species_mask = membrane.residues.resnames == species\n",
    "    species_thickness = thickness.z_thickness[species_mask]\n",
    "    species_order = lipid_order[species_mask]\n",
    "    \n",
    "    # We want out histograms to be weighted by the relative prevalance of Lo and Ld states\n",
    "    hmm_weights = np.array([\n",
    "        np.sum(species_order == -1),\n",
    "        np.sum(species_order == 1),\n",
    "    ]) / species_order.size\n",
    "    \n",
    "    for index, state in enumerate([-1, 1]):\n",
    "    \n",
    "        hist, bins= np.histogram(species_thickness[species_order == state].flatten(), bins=bin_edges, density=True)\n",
    "        plt.plot(bin_centers, hist * hmm_weights[state], label=labels[index])\n",
    "        \n",
    "        print(f\"{species} {labels[index][1:-1]} mean thickness: {np.mean(species_thickness[species_order == state]):.2f} Å\")\n",
    "        \n",
    "    plt.title(species, loc=\"left\", weight=\"bold\")\n",
    "    plt.legend()\n",
    "    plt.show()\n"
   ]
  },
  {
   "cell_type": "markdown",
   "metadata": {},
   "source": [
    "**The two states are fairly well well separated.**\n",
    "\n",
    "\n",
    "See also\n",
    "--------\n",
    "\n",
    "The results (i.e. the two-dimensional NumPy array `lipid_order`) are used as input in the following tutorial notebooks:\n",
    "\n",
    "- [Local lipid environments](4-NeighbourCounts.ipynb): The local lipid environment is quantified based on the order ($L_d$ or $L_d$) of neighbouring lipids.\n",
    "\n",
    "- [Interleaflet registration](6-Registration.ipynb): The registration between $L_o$ lipids is calculated over time.\n",
    "\n",
    "- [Projection plots](9-ProjectionPlot.ipynb): The lateral distribution of $L_d$ and $L_o$ lipids is projected onto the membrane plane.\n"
   ]
  },
  {
   "cell_type": "code",
   "execution_count": null,
   "metadata": {},
   "outputs": [],
   "source": []
  }
 ],
 "metadata": {
  "kernelspec": {
   "display_name": "Python [conda env:lpp-tutorials]",
   "language": "python",
   "name": "conda-env-lpp-tutorials-py"
  },
  "language_info": {
   "codemirror_mode": {
    "name": "ipython",
    "version": 3
   },
   "file_extension": ".py",
   "mimetype": "text/x-python",
   "name": "python",
   "nbconvert_exporter": "python",
   "pygments_lexer": "ipython3",
   "version": "3.11.4"
  },
  "widgets": {
   "application/vnd.jupyter.widget-state+json": {
    "state": {
     "035b791186fb4c8d9a3438e4011c249d": {
      "model_module": "@jupyter-widgets/base",
      "model_module_version": "1.2.0",
      "model_name": "LayoutModel",
      "state": {}
     },
     "0831c783c4704f639330351e2745e43b": {
      "model_module": "@jupyter-widgets/controls",
      "model_module_version": "1.5.0",
      "model_name": "FloatProgressModel",
      "state": {
       "bar_style": "success",
       "layout": "IPY_MODEL_a8dd75ceccd244c0ae00b4ed3a227586",
       "max": 51,
       "style": "IPY_MODEL_2b46e66864934342819693d5438c2f1d",
       "value": 51
      }
     },
     "22c2bc5485a54cd6bd0b1c6b95fd5982": {
      "model_module": "@jupyter-widgets/controls",
      "model_module_version": "1.5.0",
      "model_name": "HBoxModel",
      "state": {
       "children": [
        "IPY_MODEL_50d2b3a3cc0a4de788dfb0ef2971c38c",
        "IPY_MODEL_0831c783c4704f639330351e2745e43b",
        "IPY_MODEL_ad78ffe529414db9b91c83e63951a4e9"
       ],
       "layout": "IPY_MODEL_035b791186fb4c8d9a3438e4011c249d"
      }
     },
     "2b46e66864934342819693d5438c2f1d": {
      "model_module": "@jupyter-widgets/controls",
      "model_module_version": "1.5.0",
      "model_name": "ProgressStyleModel",
      "state": {
       "description_width": ""
      }
     },
     "34e5bde7407f475a9fca9cfd02a44962": {
      "model_module": "@jupyter-widgets/controls",
      "model_module_version": "1.5.0",
      "model_name": "DescriptionStyleModel",
      "state": {
       "description_width": ""
      }
     },
     "50d2b3a3cc0a4de788dfb0ef2971c38c": {
      "model_module": "@jupyter-widgets/controls",
      "model_module_version": "1.5.0",
      "model_name": "HTMLModel",
      "state": {
       "layout": "IPY_MODEL_844e9d468f8643f7af6e513a6b0eb8c5",
       "style": "IPY_MODEL_d672602e78c94808bafc2bad18a9857e",
       "value": "100%"
      }
     },
     "74e97cb763c14edead6e6b519a152125": {
      "model_module": "@jupyter-widgets/base",
      "model_module_version": "1.2.0",
      "model_name": "LayoutModel",
      "state": {}
     },
     "844e9d468f8643f7af6e513a6b0eb8c5": {
      "model_module": "@jupyter-widgets/base",
      "model_module_version": "1.2.0",
      "model_name": "LayoutModel",
      "state": {}
     },
     "a8dd75ceccd244c0ae00b4ed3a227586": {
      "model_module": "@jupyter-widgets/base",
      "model_module_version": "1.2.0",
      "model_name": "LayoutModel",
      "state": {}
     },
     "ad78ffe529414db9b91c83e63951a4e9": {
      "model_module": "@jupyter-widgets/controls",
      "model_module_version": "1.5.0",
      "model_name": "HTMLModel",
      "state": {
       "layout": "IPY_MODEL_74e97cb763c14edead6e6b519a152125",
       "style": "IPY_MODEL_34e5bde7407f475a9fca9cfd02a44962",
       "value": " 51/51 [00:02&lt;00:00, 26.84it/s]"
      }
     },
     "d672602e78c94808bafc2bad18a9857e": {
      "model_module": "@jupyter-widgets/controls",
      "model_module_version": "1.5.0",
      "model_name": "DescriptionStyleModel",
      "state": {
       "description_width": ""
      }
     }
    },
    "version_major": 2,
    "version_minor": 0
   }
  }
 },
 "nbformat": 4,
 "nbformat_minor": 4
}
