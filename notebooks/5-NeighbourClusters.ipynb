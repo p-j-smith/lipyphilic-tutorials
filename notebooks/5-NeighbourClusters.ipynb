{
 "cells": [
  {
   "cell_type": "markdown",
   "metadata": {},
   "source": [
    "# Find the largest clutser of lipids over time\n",
    "\n",
    "In lipid membranes, certain lipid species may preferentially co-localise with one another. The class `lipyphilic.lib.neighbours.Neighbours` can be used to find the largest cluster of specific lipids over time.\n",
    "\n",
    "Below, we will look at the 58-component plasma memrbane studied by [Ingólfsson et al. (2017)](https://www.cell.com/biophysj/fulltext/S0006-3495(17)31132-3). We will calculate the size of the largest cluster of gangliosides over time.\n"
   ]
  },
  {
   "cell_type": "code",
   "execution_count": 1,
   "metadata": {},
   "outputs": [],
   "source": [
    "import pathlib\n",
    "\n",
    "import numpy as np\n",
    "import pandas as pd\n",
    "import matplotlib.pyplot as plt\n",
    "\n",
    "import MDAnalysis as mda\n",
    "from lipyphilic.lib.assign_leaflets import AssignLeaflets\n",
    "from lipyphilic.lib.neighbours import Neighbours\n"
   ]
  },
  {
   "cell_type": "markdown",
   "metadata": {},
   "source": [
    "## Load the topology and trajectory using MDAnalysis"
   ]
  },
  {
   "cell_type": "code",
   "execution_count": 2,
   "metadata": {},
   "outputs": [
    {
     "name": "stderr",
     "output_type": "stream",
     "text": [
      "/Users/paul/mambaforge/envs/lpp-tutorials/lib/python3.11/site-packages/MDAnalysis/topology/guessers.py:146: UserWarning: Failed to guess the mass for the following atom types: A\n",
      "  warnings.warn(\"Failed to guess the mass for the following atom types: {}\".format(atom_type))\n",
      "/Users/paul/mambaforge/envs/lpp-tutorials/lib/python3.11/site-packages/MDAnalysis/topology/guessers.py:146: UserWarning: Failed to guess the mass for the following atom types: D\n",
      "  warnings.warn(\"Failed to guess the mass for the following atom types: {}\".format(atom_type))\n",
      "/Users/paul/mambaforge/envs/lpp-tutorials/lib/python3.11/site-packages/MDAnalysis/topology/guessers.py:146: UserWarning: Failed to guess the mass for the following atom types: G\n",
      "  warnings.warn(\"Failed to guess the mass for the following atom types: {}\".format(atom_type))\n",
      "/Users/paul/mambaforge/envs/lpp-tutorials/lib/python3.11/site-packages/MDAnalysis/topology/guessers.py:146: UserWarning: Failed to guess the mass for the following atom types: R\n",
      "  warnings.warn(\"Failed to guess the mass for the following atom types: {}\".format(atom_type))\n",
      "/Users/paul/mambaforge/envs/lpp-tutorials/lib/python3.11/site-packages/MDAnalysis/topology/guessers.py:146: UserWarning: Failed to guess the mass for the following atom types: T\n",
      "  warnings.warn(\"Failed to guess the mass for the following atom types: {}\".format(atom_type))\n"
     ]
    }
   ],
   "source": [
    "u = mda.Universe(\"../datafiles/LIM25_neuronal_plasma_membrane.gro\")"
   ]
  },
  {
   "cell_type": "markdown",
   "metadata": {},
   "source": [
    "Let's first check that we know how to select all lipids in this complex membrane:"
   ]
  },
  {
   "cell_type": "code",
   "execution_count": 3,
   "metadata": {},
   "outputs": [],
   "source": [
    "membrane = u.select_atoms(\"name GL1 GL2 AM1 AM2 ROH\").residues"
   ]
  },
  {
   "cell_type": "code",
   "execution_count": 4,
   "metadata": {},
   "outputs": [
    {
     "name": "stdout",
     "output_type": "stream",
     "text": [
      "Number of lipids: 19447\n",
      "Number of lipid species: 58\n"
     ]
    }
   ],
   "source": [
    "# The above selects all lipids in our system:\n",
    "print(f\"Number of lipids: {membrane.n_residues}\")\n",
    "print(f\"Number of lipid species: {np.unique(membrane.resnames).size}\")"
   ]
  },
  {
   "cell_type": "markdown",
   "metadata": {},
   "source": [
    "## Generate a neighbour matrix\n",
    "\n",
    "Before we calculate the largest cluster of lipids, we must first use **lipyphilic** to construct an adjacency matrix, $A$, that describes whether each pair of lipid molecules are neighbouring one another or not. The neighbour matrix is defined as follows:\n",
    "\n",
    "- $A_{ij}=1$ if lipid $i$ is neighbouring lipid $j$\n",
    "- $A_{ij}=0$ otherwise\n",
    "\n",
    "**See the [notebook on local lipid environments](4-NeighbourCounts.ipynb) for more information.**\n"
   ]
  },
  {
   "cell_type": "markdown",
   "metadata": {},
   "source": [
    "To construct the neighbour matrix, we will use the class `lipyphilic.lib.neighbours.Neighbours`."
   ]
  },
  {
   "cell_type": "code",
   "execution_count": 5,
   "metadata": {},
   "outputs": [],
   "source": [
    "# lipid_sel cover all 58 species in the membrane\n",
    "neighbours = Neighbours(\n",
    "    universe=u,\n",
    "    lipid_sel=\"name GL1 GL2 AM1 AM2 ROH\",\n",
    "    cutoff=12.0\n",
    ")\n"
   ]
  },
  {
   "cell_type": "markdown",
   "metadata": {},
   "source": [
    "We then select which frames of the trajectory to analyse (`None` will use every frame) and select to display a progress bar (`verbose=True`):\n",
    "  "
   ]
  },
  {
   "cell_type": "code",
   "execution_count": 6,
   "metadata": {},
   "outputs": [
    {
     "data": {
      "application/vnd.jupyter.widget-view+json": {
       "model_id": "440ab038f63e481e8008628df9cb767b",
       "version_major": 2,
       "version_minor": 0
      },
      "text/plain": [
       "  0%|          | 0/1 [00:00<?, ?it/s]"
      ]
     },
     "metadata": {},
     "output_type": "display_data"
    },
    {
     "name": "stderr",
     "output_type": "stream",
     "text": [
      "/Users/paul/mambaforge/envs/lpp-tutorials/lib/python3.11/site-packages/lipyphilic/lib/base.py:192: UserWarning: Reader has no dt information, set to 1.0 ps\n",
      "  self.times[i] = ts.time\n"
     ]
    },
    {
     "data": {
      "text/plain": [
       "<lipyphilic.lib.neighbours.Neighbours at 0x16652ded0>"
      ]
     },
     "execution_count": 6,
     "metadata": {},
     "output_type": "execute_result"
    }
   ],
   "source": [
    "# Construct the neighbour matrix\n",
    "neighbours.run(\n",
    "    start=None,\n",
    "    stop=None,\n",
    "    step=None,\n",
    "    verbose=True\n",
    ")\n"
   ]
  },
  {
   "cell_type": "markdown",
   "metadata": {},
   "source": [
    "## Find the largest cluster of gangliosides"
   ]
  },
  {
   "cell_type": "markdown",
   "metadata": {},
   "source": [
    "To find the largest cluster of a set of lipid species, we can then use the `largest_cluster` method:"
   ]
  },
  {
   "cell_type": "code",
   "execution_count": 7,
   "metadata": {},
   "outputs": [
    {
     "data": {
      "application/vnd.jupyter.widget-view+json": {
       "model_id": "18b45e2416564f87adb4076cab87b24d",
       "version_major": 2,
       "version_minor": 0
      },
      "text/plain": [
       "  0%|          | 0/1 [00:00<?, ?it/s]"
      ]
     },
     "metadata": {},
     "output_type": "display_data"
    }
   ],
   "source": [
    "largest_cluster = neighbours.largest_cluster(\n",
    "    cluster_sel=\"name GM*\"  # selects all gangliosides, which have GM beads in their headgroup\n",
    ")"
   ]
  },
  {
   "cell_type": "markdown",
   "metadata": {},
   "source": [
    "The results are returned in a NumPy array and contain the number of lipids in the largest cluster at each frame\n"
   ]
  },
  {
   "cell_type": "code",
   "execution_count": 8,
   "metadata": {},
   "outputs": [
    {
     "data": {
      "text/plain": [
       "1"
      ]
     },
     "execution_count": 8,
     "metadata": {},
     "output_type": "execute_result"
    }
   ],
   "source": [
    "# we only have a single frame in this trajectory\n",
    "largest_cluster.size"
   ]
  },
  {
   "cell_type": "markdown",
   "metadata": {},
   "source": [
    "At this frame, there are 23 gangliosides in the largest cluster:"
   ]
  },
  {
   "cell_type": "code",
   "execution_count": 9,
   "metadata": {},
   "outputs": [
    {
     "data": {
      "text/plain": [
       "array([23])"
      ]
     },
     "execution_count": 9,
     "metadata": {},
     "output_type": "execute_result"
    }
   ],
   "source": [
    "largest_cluster"
   ]
  },
  {
   "cell_type": "markdown",
   "metadata": {},
   "source": [
    "# Determine the residue indices of lipids in the largest cluster\n",
    "\n",
    "If we want to know not just the cluster size but also which lipids are in the largest cluster at each frame, we can set the `return_indices` keyword to `True`:"
   ]
  },
  {
   "cell_type": "code",
   "execution_count": 10,
   "metadata": {},
   "outputs": [
    {
     "data": {
      "application/vnd.jupyter.widget-view+json": {
       "model_id": "20e6e27764704eacad483103f6d22268",
       "version_major": 2,
       "version_minor": 0
      },
      "text/plain": [
       "  0%|          | 0/1 [00:00<?, ?it/s]"
      ]
     },
     "metadata": {},
     "output_type": "display_data"
    }
   ],
   "source": [
    "largest_cluster, largest_cluster_indices = neighbours.largest_cluster(\n",
    "    cluster_sel=\"name GM*\",\n",
    "    return_indices=True\n",
    ")"
   ]
  },
  {
   "cell_type": "markdown",
   "metadata": {},
   "source": [
    "The residue indices are returned as list of NumPy array, one per frame of the analysis. Each array contains the residue indices of the lipids in the largest cluster at that frame.\n",
    "\n",
    "Let's look at indices of lipids in this cluster:\n"
   ]
  },
  {
   "cell_type": "code",
   "execution_count": 11,
   "metadata": {},
   "outputs": [],
   "source": [
    "first_frame_indices = largest_cluster_indices[0]"
   ]
  },
  {
   "cell_type": "code",
   "execution_count": 12,
   "metadata": {},
   "outputs": [
    {
     "data": {
      "text/plain": [
       "23"
      ]
     },
     "execution_count": 12,
     "metadata": {},
     "output_type": "execute_result"
    }
   ],
   "source": [
    "# As expected, there are 23 indices (lipids)\n",
    "first_frame_indices.size"
   ]
  },
  {
   "cell_type": "markdown",
   "metadata": {},
   "source": [
    "Select the lipids in the largest cluster:"
   ]
  },
  {
   "cell_type": "code",
   "execution_count": 13,
   "metadata": {},
   "outputs": [],
   "source": [
    "largest_cluster_lipids = u.residues[first_frame_indices]"
   ]
  },
  {
   "cell_type": "code",
   "execution_count": 14,
   "metadata": {},
   "outputs": [
    {
     "name": "stdout",
     "output_type": "stream",
     "text": [
      "['DPG1' 'DPG1' 'DPG1' 'DPG1' 'DPG1' 'DPG1' 'DPG1' 'DPG1' 'DPG3' 'DPG3'\n",
      " 'DPG3' 'DPG3' 'DPG3' 'DPG3' 'DPG3' 'PNG1' 'PNG1' 'DBG1' 'DBG1' 'DBG1'\n",
      " 'DBG3' 'DBG3' 'DBG3']\n"
     ]
    }
   ],
   "source": [
    "# Check the species involved in the largest cluster\n",
    "print(largest_cluster_lipids.resnames)"
   ]
  },
  {
   "cell_type": "markdown",
   "metadata": {},
   "source": [
    "# Find the largest cluster in a given leaflet\n",
    "\n",
    "The previous examples will compute the largest cluster formed by gangliosides at each frame. Depending on the species selected, the largest cluster may span both leaflets of the bilayer.\n",
    "\n",
    "In order to find the largest cluster at each frame within a given leaflet, we can tell `largest_cluster` to consider only lipids in the upper leaflet by using the `filter_by` parameter."
   ]
  },
  {
   "cell_type": "markdown",
   "metadata": {},
   "source": [
    "First, though, we need to know which leaflet each lipid is in at each frame. This may be done using `lipyphilic.lib.assign_leaflets.AssignLeaflets`."
   ]
  },
  {
   "cell_type": "code",
   "execution_count": 15,
   "metadata": {},
   "outputs": [],
   "source": [
    "leaflets = AssignLeaflets(\n",
    "    universe=u,\n",
    "    lipid_sel=\"name GL1 GL2 AM1 AM2 ROH\",  # select all lipids in the membrane\n",
    "    n_bins=8  # split the membrane into an 8 by 8 grid, calculate local midpoints for each grid point, and assing leaflets based on local heights\n",
    ")"
   ]
  },
  {
   "cell_type": "code",
   "execution_count": 16,
   "metadata": {},
   "outputs": [
    {
     "data": {
      "application/vnd.jupyter.widget-view+json": {
       "model_id": "91c2e855b650488f9911c6add8c23c10",
       "version_major": 2,
       "version_minor": 0
      },
      "text/plain": [
       "  0%|          | 0/1 [00:00<?, ?it/s]"
      ]
     },
     "metadata": {},
     "output_type": "display_data"
    },
    {
     "data": {
      "text/plain": [
       "<lipyphilic.lib.assign_leaflets.AssignLeaflets at 0x166414bd0>"
      ]
     },
     "execution_count": 16,
     "metadata": {},
     "output_type": "execute_result"
    }
   ],
   "source": [
    "# run the analysis on the same frames as Neighbours.run()\n",
    "leaflets.run(\n",
    "    start=None,\n",
    "    stop=None,\n",
    "    step=None,\n",
    "    verbose=True\n",
    ")\n"
   ]
  },
  {
   "cell_type": "markdown",
   "metadata": {},
   "source": [
    "The leaflets data are stored in the :attr:`leaflets.leaflets` attribute, will be equal to '1' if the lipid is in the upper leaflet at a given frame and equal to '-1' if it is in the lower leaflet.\n",
    " \n",
    "**See the [notebook on local lipid environments](4-NeighbourCounts.ipynb) for more information.**\n",
    "  "
   ]
  },
  {
   "cell_type": "markdown",
   "metadata": {},
   "source": [
    "We can now find the largest cluster over time in the upper leaflet.\n",
    "\n",
    "The `filter_by` keyword of `largest_cluster` takes as input a two-dimensional NumPy array of shape ($N_{\\rm lipids}, N_{\\rm frames}$). The array should be a [boolean mask](https://docs.scipy.org/doc/numpy-1.15.0/user/basics.indexing.html#boolean-or-mask-index-arrays), where `True` indicates that we should include this lipid in the neighbour calculation:"
   ]
  },
  {
   "cell_type": "code",
   "execution_count": 17,
   "metadata": {},
   "outputs": [],
   "source": [
    "# Create a boolean mask\n",
    "upper_leaflet_mask = leaflets.leaflets == 1"
   ]
  },
  {
   "cell_type": "code",
   "execution_count": 18,
   "metadata": {},
   "outputs": [
    {
     "data": {
      "application/vnd.jupyter.widget-view+json": {
       "model_id": "1cfd3a3d3f8941cbbb71b38c7c18814b",
       "version_major": 2,
       "version_minor": 0
      },
      "text/plain": [
       "  0%|          | 0/1 [00:00<?, ?it/s]"
      ]
     },
     "metadata": {},
     "output_type": "display_data"
    }
   ],
   "source": [
    "# find the largest cluster over time\n",
    "largest_cluster_upper_leaflet = neighbours.largest_cluster(\n",
    "    cluster_sel=\"name GM*\",\n",
    "    filter_by=upper_leaflet_mask\n",
    ")\n"
   ]
  },
  {
   "cell_type": "code",
   "execution_count": 19,
   "metadata": {},
   "outputs": [
    {
     "data": {
      "text/plain": [
       "array([23])"
      ]
     },
     "execution_count": 19,
     "metadata": {},
     "output_type": "execute_result"
    }
   ],
   "source": [
    "largest_cluster_upper_leaflet"
   ]
  },
  {
   "cell_type": "markdown",
   "metadata": {},
   "source": [
    "Now, lipids either in the lower leaflet (-1) or the midplane (0) will not be included when determining\n",
    "the largest cluster.\n",
    "\n",
    "In this membrane, all gangliosides are in the upper leaflet, so it is expected that the largest cluster size would be unchanged,\n"
   ]
  },
  {
   "cell_type": "code",
   "execution_count": null,
   "metadata": {},
   "outputs": [],
   "source": []
  }
 ],
 "metadata": {
  "kernelspec": {
   "display_name": "Python [conda env:lpp-tutorials]",
   "language": "python",
   "name": "conda-env-lpp-tutorials-py"
  },
  "language_info": {
   "codemirror_mode": {
    "name": "ipython",
    "version": 3
   },
   "file_extension": ".py",
   "mimetype": "text/x-python",
   "name": "python",
   "nbconvert_exporter": "python",
   "pygments_lexer": "ipython3",
   "version": "3.11.4"
  },
  "widgets": {
   "application/vnd.jupyter.widget-state+json": {
    "state": {
     "059aec89257b4f13ad9ccf5f1560a50c": {
      "model_module": "@jupyter-widgets/controls",
      "model_module_version": "1.5.0",
      "model_name": "DescriptionStyleModel",
      "state": {
       "description_width": ""
      }
     },
     "06ef119a46f04672babf912c58480fe5": {
      "model_module": "@jupyter-widgets/controls",
      "model_module_version": "1.5.0",
      "model_name": "DescriptionStyleModel",
      "state": {
       "description_width": ""
      }
     },
     "16765fc4e5114d2ab84e806a79e3a9aa": {
      "model_module": "@jupyter-widgets/controls",
      "model_module_version": "1.5.0",
      "model_name": "FloatProgressModel",
      "state": {
       "bar_style": "success",
       "layout": "IPY_MODEL_e07df9fff8cb4ddf9151cd11a6fec3e5",
       "max": 1,
       "style": "IPY_MODEL_b931baa9cb6d4a8fba6278c608c6b263",
       "value": 1
      }
     },
     "1dafc0c820c3405ba4bd5022e6bd374f": {
      "model_module": "@jupyter-widgets/base",
      "model_module_version": "1.2.0",
      "model_name": "LayoutModel",
      "state": {}
     },
     "1f18cf27fe914c038803a5c9ab3f91cf": {
      "model_module": "@jupyter-widgets/controls",
      "model_module_version": "1.5.0",
      "model_name": "ProgressStyleModel",
      "state": {
       "description_width": ""
      }
     },
     "20d20db62df34bb680c7b79c5c40a433": {
      "model_module": "@jupyter-widgets/controls",
      "model_module_version": "1.5.0",
      "model_name": "DescriptionStyleModel",
      "state": {
       "description_width": ""
      }
     },
     "211f2e918cdf427992b821cd2cc70ece": {
      "model_module": "@jupyter-widgets/base",
      "model_module_version": "1.2.0",
      "model_name": "LayoutModel",
      "state": {}
     },
     "2d64cb7904f54d83a12d7fdab93bde12": {
      "model_module": "@jupyter-widgets/controls",
      "model_module_version": "1.5.0",
      "model_name": "HTMLModel",
      "state": {
       "layout": "IPY_MODEL_5c16cd7f42394519b3191ccb056d1bb3",
       "style": "IPY_MODEL_4028928e616f4a9c928a6d5aa1901d36",
       "value": " 1/1 [00:00&lt;00:00, 45.55it/s]"
      }
     },
     "2dcfe373fd9e4df8871a4b6ea04f77b4": {
      "model_module": "@jupyter-widgets/base",
      "model_module_version": "1.2.0",
      "model_name": "LayoutModel",
      "state": {}
     },
     "2f0bfa8f304b4b99bc38db7d55fcd913": {
      "model_module": "@jupyter-widgets/controls",
      "model_module_version": "1.5.0",
      "model_name": "FloatProgressModel",
      "state": {
       "bar_style": "success",
       "layout": "IPY_MODEL_92b95a9bd3c04238bf22c70d172fb754",
       "max": 1,
       "style": "IPY_MODEL_f5ce2b446d80408e85fce51647ed02e3",
       "value": 1
      }
     },
     "3080defb753244b9aa51380d544a2aef": {
      "model_module": "@jupyter-widgets/controls",
      "model_module_version": "1.5.0",
      "model_name": "FloatProgressModel",
      "state": {
       "bar_style": "success",
       "layout": "IPY_MODEL_a644f618d4b3405dbfec3e24f4c8aab8",
       "max": 1,
       "style": "IPY_MODEL_7c66656693d845e1b5df901f5842611a",
       "value": 1
      }
     },
     "36878a64ac784ba59c013f0b8300abea": {
      "model_module": "@jupyter-widgets/base",
      "model_module_version": "1.2.0",
      "model_name": "LayoutModel",
      "state": {}
     },
     "39fd91545e9645a1be8dd871375c3505": {
      "model_module": "@jupyter-widgets/controls",
      "model_module_version": "1.5.0",
      "model_name": "HTMLModel",
      "state": {
       "layout": "IPY_MODEL_e519d67905f44532a565d15075385b7d",
       "style": "IPY_MODEL_fc8609255a5f4da59e7b64f23e418788",
       "value": "100%"
      }
     },
     "4028928e616f4a9c928a6d5aa1901d36": {
      "model_module": "@jupyter-widgets/controls",
      "model_module_version": "1.5.0",
      "model_name": "DescriptionStyleModel",
      "state": {
       "description_width": ""
      }
     },
     "4a30a4bc1ecd435fb493f6fd07aeacd4": {
      "model_module": "@jupyter-widgets/base",
      "model_module_version": "1.2.0",
      "model_name": "LayoutModel",
      "state": {}
     },
     "564e422341314a5bb7c253778f7e4e45": {
      "model_module": "@jupyter-widgets/controls",
      "model_module_version": "1.5.0",
      "model_name": "HBoxModel",
      "state": {
       "children": [
        "IPY_MODEL_c98a4cec79fc4232ba6dd52a5f90ad99",
        "IPY_MODEL_16765fc4e5114d2ab84e806a79e3a9aa",
        "IPY_MODEL_aaf13153da2b4bb1a5c054529c281d8c"
       ],
       "layout": "IPY_MODEL_211f2e918cdf427992b821cd2cc70ece"
      }
     },
     "5c16cd7f42394519b3191ccb056d1bb3": {
      "model_module": "@jupyter-widgets/base",
      "model_module_version": "1.2.0",
      "model_name": "LayoutModel",
      "state": {}
     },
     "5c86e4d2de694e648530d7961fa1a820": {
      "model_module": "@jupyter-widgets/base",
      "model_module_version": "1.2.0",
      "model_name": "LayoutModel",
      "state": {}
     },
     "60940882ae5c4302a3e26784eeadbe0a": {
      "model_module": "@jupyter-widgets/controls",
      "model_module_version": "1.5.0",
      "model_name": "HTMLModel",
      "state": {
       "layout": "IPY_MODEL_2dcfe373fd9e4df8871a4b6ea04f77b4",
       "style": "IPY_MODEL_06ef119a46f04672babf912c58480fe5",
       "value": " 1/1 [00:00&lt;00:00, 48.33it/s]"
      }
     },
     "65ef4ea6fea54d508c62955bca57a07c": {
      "model_module": "@jupyter-widgets/base",
      "model_module_version": "1.2.0",
      "model_name": "LayoutModel",
      "state": {}
     },
     "6daea403cbe243ae974dd4b2d7575fd8": {
      "model_module": "@jupyter-widgets/controls",
      "model_module_version": "1.5.0",
      "model_name": "HTMLModel",
      "state": {
       "layout": "IPY_MODEL_4a30a4bc1ecd435fb493f6fd07aeacd4",
       "style": "IPY_MODEL_059aec89257b4f13ad9ccf5f1560a50c",
       "value": "100%"
      }
     },
     "79ad16c9bf9e44628feeee2c6d9ab1a7": {
      "model_module": "@jupyter-widgets/controls",
      "model_module_version": "1.5.0",
      "model_name": "HBoxModel",
      "state": {
       "children": [
        "IPY_MODEL_39fd91545e9645a1be8dd871375c3505",
        "IPY_MODEL_3080defb753244b9aa51380d544a2aef",
        "IPY_MODEL_a1b5bb82aaf844b8829699e59634dc87"
       ],
       "layout": "IPY_MODEL_65ef4ea6fea54d508c62955bca57a07c"
      }
     },
     "7c66656693d845e1b5df901f5842611a": {
      "model_module": "@jupyter-widgets/controls",
      "model_module_version": "1.5.0",
      "model_name": "ProgressStyleModel",
      "state": {
       "description_width": ""
      }
     },
     "8381978bd6e44380a5f36df924cab9ae": {
      "model_module": "@jupyter-widgets/controls",
      "model_module_version": "1.5.0",
      "model_name": "HTMLModel",
      "state": {
       "layout": "IPY_MODEL_d20be4130e2f44fc94a52f81bd26d9ec",
       "style": "IPY_MODEL_20d20db62df34bb680c7b79c5c40a433",
       "value": "100%"
      }
     },
     "8d4b1acb61a447679fa93fe4d623dafd": {
      "model_module": "@jupyter-widgets/controls",
      "model_module_version": "1.5.0",
      "model_name": "DescriptionStyleModel",
      "state": {
       "description_width": ""
      }
     },
     "92b95a9bd3c04238bf22c70d172fb754": {
      "model_module": "@jupyter-widgets/base",
      "model_module_version": "1.2.0",
      "model_name": "LayoutModel",
      "state": {}
     },
     "94b533ad96714572bed635c1b979f66b": {
      "model_module": "@jupyter-widgets/base",
      "model_module_version": "1.2.0",
      "model_name": "LayoutModel",
      "state": {}
     },
     "a069b38e89b0408ba9cd321179afb45a": {
      "model_module": "@jupyter-widgets/controls",
      "model_module_version": "1.5.0",
      "model_name": "HTMLModel",
      "state": {
       "layout": "IPY_MODEL_e9d4a6846f05491695d7707d5a96e95b",
       "style": "IPY_MODEL_ac9a63d0d14c4c90b75942f9f7e89e7a",
       "value": " 1/1 [00:00&lt;00:00, 48.96it/s]"
      }
     },
     "a1b5bb82aaf844b8829699e59634dc87": {
      "model_module": "@jupyter-widgets/controls",
      "model_module_version": "1.5.0",
      "model_name": "HTMLModel",
      "state": {
       "layout": "IPY_MODEL_de1f1011de8647fa88f9f1b3f17e586c",
       "style": "IPY_MODEL_cbf0cb1a660242ceaa7a66a4c8bf8213",
       "value": " 1/1 [00:00&lt;00:00, 23.19it/s]"
      }
     },
     "a3646528952141488e30a69f09f1bf4c": {
      "model_module": "@jupyter-widgets/controls",
      "model_module_version": "1.5.0",
      "model_name": "HBoxModel",
      "state": {
       "children": [
        "IPY_MODEL_6daea403cbe243ae974dd4b2d7575fd8",
        "IPY_MODEL_d6e4162259c044aaa4a5d9a7285ea143",
        "IPY_MODEL_60940882ae5c4302a3e26784eeadbe0a"
       ],
       "layout": "IPY_MODEL_d3f0c42787854c0e832baa3c24914bf3"
      }
     },
     "a644f618d4b3405dbfec3e24f4c8aab8": {
      "model_module": "@jupyter-widgets/base",
      "model_module_version": "1.2.0",
      "model_name": "LayoutModel",
      "state": {}
     },
     "a698c0e574b2467d9d8aead1874832b6": {
      "model_module": "@jupyter-widgets/controls",
      "model_module_version": "1.5.0",
      "model_name": "HBoxModel",
      "state": {
       "children": [
        "IPY_MODEL_acfdb6cab297419692fc8ce3810f7f81",
        "IPY_MODEL_2f0bfa8f304b4b99bc38db7d55fcd913",
        "IPY_MODEL_2d64cb7904f54d83a12d7fdab93bde12"
       ],
       "layout": "IPY_MODEL_e77badca2d0d4428a427a7fe8e39ef4c"
      }
     },
     "a88b0d4aad7c4014a65ea5519790699a": {
      "model_module": "@jupyter-widgets/base",
      "model_module_version": "1.2.0",
      "model_name": "LayoutModel",
      "state": {}
     },
     "aaf13153da2b4bb1a5c054529c281d8c": {
      "model_module": "@jupyter-widgets/controls",
      "model_module_version": "1.5.0",
      "model_name": "HTMLModel",
      "state": {
       "layout": "IPY_MODEL_5c86e4d2de694e648530d7961fa1a820",
       "style": "IPY_MODEL_fb6641f141c14f2d860827b54e181c2d",
       "value": " 1/1 [00:00&lt;00:00,  1.06it/s]"
      }
     },
     "ac9a63d0d14c4c90b75942f9f7e89e7a": {
      "model_module": "@jupyter-widgets/controls",
      "model_module_version": "1.5.0",
      "model_name": "DescriptionStyleModel",
      "state": {
       "description_width": ""
      }
     },
     "acfdb6cab297419692fc8ce3810f7f81": {
      "model_module": "@jupyter-widgets/controls",
      "model_module_version": "1.5.0",
      "model_name": "HTMLModel",
      "state": {
       "layout": "IPY_MODEL_baa70940e84b4260b817c396c1129f9b",
       "style": "IPY_MODEL_fcdcb62fc4f5430cb23b0ff412faa82c",
       "value": "100%"
      }
     },
     "b2754d0c78e349dc8f626b01970cda6d": {
      "model_module": "@jupyter-widgets/controls",
      "model_module_version": "1.5.0",
      "model_name": "ProgressStyleModel",
      "state": {
       "description_width": ""
      }
     },
     "b6e2a6346ffd4477ac72769e5b65ff01": {
      "model_module": "@jupyter-widgets/controls",
      "model_module_version": "1.5.0",
      "model_name": "HBoxModel",
      "state": {
       "children": [
        "IPY_MODEL_8381978bd6e44380a5f36df924cab9ae",
        "IPY_MODEL_eb73f1a707e14f3684278c36f6bf85fd",
        "IPY_MODEL_a069b38e89b0408ba9cd321179afb45a"
       ],
       "layout": "IPY_MODEL_36878a64ac784ba59c013f0b8300abea"
      }
     },
     "b931baa9cb6d4a8fba6278c608c6b263": {
      "model_module": "@jupyter-widgets/controls",
      "model_module_version": "1.5.0",
      "model_name": "ProgressStyleModel",
      "state": {
       "description_width": ""
      }
     },
     "baa70940e84b4260b817c396c1129f9b": {
      "model_module": "@jupyter-widgets/base",
      "model_module_version": "1.2.0",
      "model_name": "LayoutModel",
      "state": {}
     },
     "c98a4cec79fc4232ba6dd52a5f90ad99": {
      "model_module": "@jupyter-widgets/controls",
      "model_module_version": "1.5.0",
      "model_name": "HTMLModel",
      "state": {
       "layout": "IPY_MODEL_a88b0d4aad7c4014a65ea5519790699a",
       "style": "IPY_MODEL_8d4b1acb61a447679fa93fe4d623dafd",
       "value": "100%"
      }
     },
     "cbf0cb1a660242ceaa7a66a4c8bf8213": {
      "model_module": "@jupyter-widgets/controls",
      "model_module_version": "1.5.0",
      "model_name": "DescriptionStyleModel",
      "state": {
       "description_width": ""
      }
     },
     "d20be4130e2f44fc94a52f81bd26d9ec": {
      "model_module": "@jupyter-widgets/base",
      "model_module_version": "1.2.0",
      "model_name": "LayoutModel",
      "state": {}
     },
     "d3f0c42787854c0e832baa3c24914bf3": {
      "model_module": "@jupyter-widgets/base",
      "model_module_version": "1.2.0",
      "model_name": "LayoutModel",
      "state": {}
     },
     "d6e4162259c044aaa4a5d9a7285ea143": {
      "model_module": "@jupyter-widgets/controls",
      "model_module_version": "1.5.0",
      "model_name": "FloatProgressModel",
      "state": {
       "bar_style": "success",
       "layout": "IPY_MODEL_1dafc0c820c3405ba4bd5022e6bd374f",
       "max": 1,
       "style": "IPY_MODEL_1f18cf27fe914c038803a5c9ab3f91cf",
       "value": 1
      }
     },
     "de1f1011de8647fa88f9f1b3f17e586c": {
      "model_module": "@jupyter-widgets/base",
      "model_module_version": "1.2.0",
      "model_name": "LayoutModel",
      "state": {}
     },
     "e07df9fff8cb4ddf9151cd11a6fec3e5": {
      "model_module": "@jupyter-widgets/base",
      "model_module_version": "1.2.0",
      "model_name": "LayoutModel",
      "state": {}
     },
     "e519d67905f44532a565d15075385b7d": {
      "model_module": "@jupyter-widgets/base",
      "model_module_version": "1.2.0",
      "model_name": "LayoutModel",
      "state": {}
     },
     "e77badca2d0d4428a427a7fe8e39ef4c": {
      "model_module": "@jupyter-widgets/base",
      "model_module_version": "1.2.0",
      "model_name": "LayoutModel",
      "state": {}
     },
     "e9d4a6846f05491695d7707d5a96e95b": {
      "model_module": "@jupyter-widgets/base",
      "model_module_version": "1.2.0",
      "model_name": "LayoutModel",
      "state": {}
     },
     "eb73f1a707e14f3684278c36f6bf85fd": {
      "model_module": "@jupyter-widgets/controls",
      "model_module_version": "1.5.0",
      "model_name": "FloatProgressModel",
      "state": {
       "bar_style": "success",
       "layout": "IPY_MODEL_94b533ad96714572bed635c1b979f66b",
       "max": 1,
       "style": "IPY_MODEL_b2754d0c78e349dc8f626b01970cda6d",
       "value": 1
      }
     },
     "f5ce2b446d80408e85fce51647ed02e3": {
      "model_module": "@jupyter-widgets/controls",
      "model_module_version": "1.5.0",
      "model_name": "ProgressStyleModel",
      "state": {
       "description_width": ""
      }
     },
     "fb6641f141c14f2d860827b54e181c2d": {
      "model_module": "@jupyter-widgets/controls",
      "model_module_version": "1.5.0",
      "model_name": "DescriptionStyleModel",
      "state": {
       "description_width": ""
      }
     },
     "fc8609255a5f4da59e7b64f23e418788": {
      "model_module": "@jupyter-widgets/controls",
      "model_module_version": "1.5.0",
      "model_name": "DescriptionStyleModel",
      "state": {
       "description_width": ""
      }
     },
     "fcdcb62fc4f5430cb23b0ff412faa82c": {
      "model_module": "@jupyter-widgets/controls",
      "model_module_version": "1.5.0",
      "model_name": "DescriptionStyleModel",
      "state": {
       "description_width": ""
      }
     }
    },
    "version_major": 2,
    "version_minor": 0
   }
  }
 },
 "nbformat": 4,
 "nbformat_minor": 4
}
